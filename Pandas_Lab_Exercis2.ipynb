{
 "cells": [
  {
   "cell_type": "markdown",
   "metadata": {
    "id": "UbGp33eY741p"
   },
   "source": [
    "## Pandas Lab Exercise (Kaggle Automobile Dataset)\n",
    "\n",
    "We shall now test your skills in using Pandas package. We will be using the [automobiles Dataset](https://www.kaggle.com/nisargpatel/automobiles/data) from Kaggle. \n",
    "\n",
    "Answer each question asked below wrt the automobiles dataset. Load pandas as pd and upload the Automobile.csv file as auto"
   ]
  },
  {
   "cell_type": "code",
   "execution_count": 2,
   "metadata": {
    "id": "PBlq1VGW741u",
    "scrolled": true
   },
   "outputs": [],
   "source": [
    "import pandas as pd"
   ]
  },
  {
   "cell_type": "markdown",
   "metadata": {
    "id": "DaOkloFo741z"
   },
   "source": [
    "**Load the Automobile dataset into variable \"auto\"**"
   ]
  },
  {
   "cell_type": "code",
   "execution_count": 35,
   "metadata": {
    "id": "SbgXY9P67410"
   },
   "outputs": [
    {
     "data": {
      "text/html": [
       "<div>\n",
       "<style scoped>\n",
       "    .dataframe tbody tr th:only-of-type {\n",
       "        vertical-align: middle;\n",
       "    }\n",
       "\n",
       "    .dataframe tbody tr th {\n",
       "        vertical-align: top;\n",
       "    }\n",
       "\n",
       "    .dataframe thead th {\n",
       "        text-align: right;\n",
       "    }\n",
       "</style>\n",
       "<table border=\"1\" class=\"dataframe\">\n",
       "  <thead>\n",
       "    <tr style=\"text-align: right;\">\n",
       "      <th></th>\n",
       "      <th>symboling</th>\n",
       "      <th>normalized_losses</th>\n",
       "      <th>make</th>\n",
       "      <th>fuel_type</th>\n",
       "      <th>aspiration</th>\n",
       "      <th>number_of_doors</th>\n",
       "      <th>body_style</th>\n",
       "      <th>drive_wheels</th>\n",
       "      <th>engine_location</th>\n",
       "      <th>wheel_base</th>\n",
       "      <th>...</th>\n",
       "      <th>engine_size</th>\n",
       "      <th>fuel_system</th>\n",
       "      <th>bore</th>\n",
       "      <th>stroke</th>\n",
       "      <th>compression_ratio</th>\n",
       "      <th>horsepower</th>\n",
       "      <th>peak_rpm</th>\n",
       "      <th>city_mpg</th>\n",
       "      <th>highway_mpg</th>\n",
       "      <th>price</th>\n",
       "    </tr>\n",
       "  </thead>\n",
       "  <tbody>\n",
       "    <tr>\n",
       "      <th>0</th>\n",
       "      <td>3</td>\n",
       "      <td>168</td>\n",
       "      <td>alfa-romero</td>\n",
       "      <td>gas</td>\n",
       "      <td>std</td>\n",
       "      <td>two</td>\n",
       "      <td>convertible</td>\n",
       "      <td>rwd</td>\n",
       "      <td>front</td>\n",
       "      <td>88.6</td>\n",
       "      <td>...</td>\n",
       "      <td>130</td>\n",
       "      <td>mpfi</td>\n",
       "      <td>3.47</td>\n",
       "      <td>2.68</td>\n",
       "      <td>9.0</td>\n",
       "      <td>111</td>\n",
       "      <td>5000</td>\n",
       "      <td>21</td>\n",
       "      <td>27</td>\n",
       "      <td>13495</td>\n",
       "    </tr>\n",
       "    <tr>\n",
       "      <th>1</th>\n",
       "      <td>3</td>\n",
       "      <td>168</td>\n",
       "      <td>alfa-romero</td>\n",
       "      <td>gas</td>\n",
       "      <td>std</td>\n",
       "      <td>two</td>\n",
       "      <td>convertible</td>\n",
       "      <td>rwd</td>\n",
       "      <td>front</td>\n",
       "      <td>88.6</td>\n",
       "      <td>...</td>\n",
       "      <td>130</td>\n",
       "      <td>mpfi</td>\n",
       "      <td>3.47</td>\n",
       "      <td>2.68</td>\n",
       "      <td>9.0</td>\n",
       "      <td>111</td>\n",
       "      <td>5000</td>\n",
       "      <td>21</td>\n",
       "      <td>27</td>\n",
       "      <td>16500</td>\n",
       "    </tr>\n",
       "    <tr>\n",
       "      <th>2</th>\n",
       "      <td>1</td>\n",
       "      <td>168</td>\n",
       "      <td>alfa-romero</td>\n",
       "      <td>gas</td>\n",
       "      <td>std</td>\n",
       "      <td>two</td>\n",
       "      <td>hatchback</td>\n",
       "      <td>rwd</td>\n",
       "      <td>front</td>\n",
       "      <td>94.5</td>\n",
       "      <td>...</td>\n",
       "      <td>152</td>\n",
       "      <td>mpfi</td>\n",
       "      <td>2.68</td>\n",
       "      <td>3.47</td>\n",
       "      <td>9.0</td>\n",
       "      <td>154</td>\n",
       "      <td>5000</td>\n",
       "      <td>19</td>\n",
       "      <td>26</td>\n",
       "      <td>16500</td>\n",
       "    </tr>\n",
       "    <tr>\n",
       "      <th>3</th>\n",
       "      <td>2</td>\n",
       "      <td>164</td>\n",
       "      <td>audi</td>\n",
       "      <td>gas</td>\n",
       "      <td>std</td>\n",
       "      <td>four</td>\n",
       "      <td>sedan</td>\n",
       "      <td>fwd</td>\n",
       "      <td>front</td>\n",
       "      <td>99.8</td>\n",
       "      <td>...</td>\n",
       "      <td>109</td>\n",
       "      <td>mpfi</td>\n",
       "      <td>3.19</td>\n",
       "      <td>3.40</td>\n",
       "      <td>10.0</td>\n",
       "      <td>102</td>\n",
       "      <td>5500</td>\n",
       "      <td>24</td>\n",
       "      <td>30</td>\n",
       "      <td>13950</td>\n",
       "    </tr>\n",
       "    <tr>\n",
       "      <th>4</th>\n",
       "      <td>2</td>\n",
       "      <td>164</td>\n",
       "      <td>audi</td>\n",
       "      <td>gas</td>\n",
       "      <td>std</td>\n",
       "      <td>four</td>\n",
       "      <td>sedan</td>\n",
       "      <td>4wd</td>\n",
       "      <td>front</td>\n",
       "      <td>99.4</td>\n",
       "      <td>...</td>\n",
       "      <td>136</td>\n",
       "      <td>mpfi</td>\n",
       "      <td>3.19</td>\n",
       "      <td>3.40</td>\n",
       "      <td>8.0</td>\n",
       "      <td>115</td>\n",
       "      <td>5500</td>\n",
       "      <td>18</td>\n",
       "      <td>22</td>\n",
       "      <td>17450</td>\n",
       "    </tr>\n",
       "    <tr>\n",
       "      <th>...</th>\n",
       "      <td>...</td>\n",
       "      <td>...</td>\n",
       "      <td>...</td>\n",
       "      <td>...</td>\n",
       "      <td>...</td>\n",
       "      <td>...</td>\n",
       "      <td>...</td>\n",
       "      <td>...</td>\n",
       "      <td>...</td>\n",
       "      <td>...</td>\n",
       "      <td>...</td>\n",
       "      <td>...</td>\n",
       "      <td>...</td>\n",
       "      <td>...</td>\n",
       "      <td>...</td>\n",
       "      <td>...</td>\n",
       "      <td>...</td>\n",
       "      <td>...</td>\n",
       "      <td>...</td>\n",
       "      <td>...</td>\n",
       "      <td>...</td>\n",
       "    </tr>\n",
       "    <tr>\n",
       "      <th>196</th>\n",
       "      <td>-1</td>\n",
       "      <td>95</td>\n",
       "      <td>volvo</td>\n",
       "      <td>gas</td>\n",
       "      <td>std</td>\n",
       "      <td>four</td>\n",
       "      <td>sedan</td>\n",
       "      <td>rwd</td>\n",
       "      <td>front</td>\n",
       "      <td>109.1</td>\n",
       "      <td>...</td>\n",
       "      <td>141</td>\n",
       "      <td>mpfi</td>\n",
       "      <td>3.78</td>\n",
       "      <td>3.15</td>\n",
       "      <td>9.5</td>\n",
       "      <td>114</td>\n",
       "      <td>5400</td>\n",
       "      <td>23</td>\n",
       "      <td>28</td>\n",
       "      <td>16845</td>\n",
       "    </tr>\n",
       "    <tr>\n",
       "      <th>197</th>\n",
       "      <td>-1</td>\n",
       "      <td>95</td>\n",
       "      <td>volvo</td>\n",
       "      <td>gas</td>\n",
       "      <td>turbo</td>\n",
       "      <td>four</td>\n",
       "      <td>sedan</td>\n",
       "      <td>rwd</td>\n",
       "      <td>front</td>\n",
       "      <td>109.1</td>\n",
       "      <td>...</td>\n",
       "      <td>141</td>\n",
       "      <td>mpfi</td>\n",
       "      <td>3.78</td>\n",
       "      <td>3.15</td>\n",
       "      <td>8.7</td>\n",
       "      <td>160</td>\n",
       "      <td>5300</td>\n",
       "      <td>19</td>\n",
       "      <td>25</td>\n",
       "      <td>19045</td>\n",
       "    </tr>\n",
       "    <tr>\n",
       "      <th>198</th>\n",
       "      <td>-1</td>\n",
       "      <td>95</td>\n",
       "      <td>volvo</td>\n",
       "      <td>gas</td>\n",
       "      <td>std</td>\n",
       "      <td>four</td>\n",
       "      <td>sedan</td>\n",
       "      <td>rwd</td>\n",
       "      <td>front</td>\n",
       "      <td>109.1</td>\n",
       "      <td>...</td>\n",
       "      <td>173</td>\n",
       "      <td>mpfi</td>\n",
       "      <td>3.58</td>\n",
       "      <td>2.87</td>\n",
       "      <td>8.8</td>\n",
       "      <td>134</td>\n",
       "      <td>5500</td>\n",
       "      <td>18</td>\n",
       "      <td>23</td>\n",
       "      <td>21485</td>\n",
       "    </tr>\n",
       "    <tr>\n",
       "      <th>199</th>\n",
       "      <td>-1</td>\n",
       "      <td>95</td>\n",
       "      <td>volvo</td>\n",
       "      <td>diesel</td>\n",
       "      <td>turbo</td>\n",
       "      <td>four</td>\n",
       "      <td>sedan</td>\n",
       "      <td>rwd</td>\n",
       "      <td>front</td>\n",
       "      <td>109.1</td>\n",
       "      <td>...</td>\n",
       "      <td>145</td>\n",
       "      <td>idi</td>\n",
       "      <td>3.01</td>\n",
       "      <td>3.40</td>\n",
       "      <td>23.0</td>\n",
       "      <td>106</td>\n",
       "      <td>4800</td>\n",
       "      <td>26</td>\n",
       "      <td>27</td>\n",
       "      <td>22470</td>\n",
       "    </tr>\n",
       "    <tr>\n",
       "      <th>200</th>\n",
       "      <td>-1</td>\n",
       "      <td>95</td>\n",
       "      <td>volvo</td>\n",
       "      <td>gas</td>\n",
       "      <td>turbo</td>\n",
       "      <td>four</td>\n",
       "      <td>sedan</td>\n",
       "      <td>rwd</td>\n",
       "      <td>front</td>\n",
       "      <td>109.1</td>\n",
       "      <td>...</td>\n",
       "      <td>141</td>\n",
       "      <td>mpfi</td>\n",
       "      <td>3.78</td>\n",
       "      <td>3.15</td>\n",
       "      <td>9.5</td>\n",
       "      <td>114</td>\n",
       "      <td>5400</td>\n",
       "      <td>19</td>\n",
       "      <td>25</td>\n",
       "      <td>22625</td>\n",
       "    </tr>\n",
       "  </tbody>\n",
       "</table>\n",
       "<p>201 rows × 26 columns</p>\n",
       "</div>"
      ],
      "text/plain": [
       "     symboling  normalized_losses         make fuel_type aspiration  \\\n",
       "0            3                168  alfa-romero       gas        std   \n",
       "1            3                168  alfa-romero       gas        std   \n",
       "2            1                168  alfa-romero       gas        std   \n",
       "3            2                164         audi       gas        std   \n",
       "4            2                164         audi       gas        std   \n",
       "..         ...                ...          ...       ...        ...   \n",
       "196         -1                 95        volvo       gas        std   \n",
       "197         -1                 95        volvo       gas      turbo   \n",
       "198         -1                 95        volvo       gas        std   \n",
       "199         -1                 95        volvo    diesel      turbo   \n",
       "200         -1                 95        volvo       gas      turbo   \n",
       "\n",
       "    number_of_doors   body_style drive_wheels engine_location  wheel_base  \\\n",
       "0               two  convertible          rwd           front        88.6   \n",
       "1               two  convertible          rwd           front        88.6   \n",
       "2               two    hatchback          rwd           front        94.5   \n",
       "3              four        sedan          fwd           front        99.8   \n",
       "4              four        sedan          4wd           front        99.4   \n",
       "..              ...          ...          ...             ...         ...   \n",
       "196            four        sedan          rwd           front       109.1   \n",
       "197            four        sedan          rwd           front       109.1   \n",
       "198            four        sedan          rwd           front       109.1   \n",
       "199            four        sedan          rwd           front       109.1   \n",
       "200            four        sedan          rwd           front       109.1   \n",
       "\n",
       "     ...  engine_size  fuel_system  bore  stroke compression_ratio horsepower  \\\n",
       "0    ...          130         mpfi  3.47    2.68               9.0        111   \n",
       "1    ...          130         mpfi  3.47    2.68               9.0        111   \n",
       "2    ...          152         mpfi  2.68    3.47               9.0        154   \n",
       "3    ...          109         mpfi  3.19    3.40              10.0        102   \n",
       "4    ...          136         mpfi  3.19    3.40               8.0        115   \n",
       "..   ...          ...          ...   ...     ...               ...        ...   \n",
       "196  ...          141         mpfi  3.78    3.15               9.5        114   \n",
       "197  ...          141         mpfi  3.78    3.15               8.7        160   \n",
       "198  ...          173         mpfi  3.58    2.87               8.8        134   \n",
       "199  ...          145          idi  3.01    3.40              23.0        106   \n",
       "200  ...          141         mpfi  3.78    3.15               9.5        114   \n",
       "\n",
       "     peak_rpm city_mpg  highway_mpg  price  \n",
       "0        5000       21           27  13495  \n",
       "1        5000       21           27  16500  \n",
       "2        5000       19           26  16500  \n",
       "3        5500       24           30  13950  \n",
       "4        5500       18           22  17450  \n",
       "..        ...      ...          ...    ...  \n",
       "196      5400       23           28  16845  \n",
       "197      5300       19           25  19045  \n",
       "198      5500       18           23  21485  \n",
       "199      4800       26           27  22470  \n",
       "200      5400       19           25  22625  \n",
       "\n",
       "[201 rows x 26 columns]"
      ]
     },
     "execution_count": 35,
     "metadata": {},
     "output_type": "execute_result"
    }
   ],
   "source": [
    "auto=pd.read_csv(\"Automobile.csv\")\n",
    "auto"
   ]
  },
  {
   "cell_type": "markdown",
   "metadata": {
    "id": "Ojz2p4tA7412"
   },
   "source": [
    "**Check the head of the DataFrame.**"
   ]
  },
  {
   "cell_type": "code",
   "execution_count": 36,
   "metadata": {
    "colab": {
     "base_uri": "https://localhost:8080/",
     "height": 294
    },
    "id": "SkS94Img7413",
    "outputId": "94929b1c-b6c3-4e3b-e96f-96f32f7dfc3c"
   },
   "outputs": [
    {
     "data": {
      "text/html": [
       "<div>\n",
       "<style scoped>\n",
       "    .dataframe tbody tr th:only-of-type {\n",
       "        vertical-align: middle;\n",
       "    }\n",
       "\n",
       "    .dataframe tbody tr th {\n",
       "        vertical-align: top;\n",
       "    }\n",
       "\n",
       "    .dataframe thead th {\n",
       "        text-align: right;\n",
       "    }\n",
       "</style>\n",
       "<table border=\"1\" class=\"dataframe\">\n",
       "  <thead>\n",
       "    <tr style=\"text-align: right;\">\n",
       "      <th></th>\n",
       "      <th>symboling</th>\n",
       "      <th>normalized_losses</th>\n",
       "      <th>make</th>\n",
       "      <th>fuel_type</th>\n",
       "      <th>aspiration</th>\n",
       "      <th>number_of_doors</th>\n",
       "      <th>body_style</th>\n",
       "      <th>drive_wheels</th>\n",
       "      <th>engine_location</th>\n",
       "      <th>wheel_base</th>\n",
       "      <th>...</th>\n",
       "      <th>engine_size</th>\n",
       "      <th>fuel_system</th>\n",
       "      <th>bore</th>\n",
       "      <th>stroke</th>\n",
       "      <th>compression_ratio</th>\n",
       "      <th>horsepower</th>\n",
       "      <th>peak_rpm</th>\n",
       "      <th>city_mpg</th>\n",
       "      <th>highway_mpg</th>\n",
       "      <th>price</th>\n",
       "    </tr>\n",
       "  </thead>\n",
       "  <tbody>\n",
       "    <tr>\n",
       "      <th>0</th>\n",
       "      <td>3</td>\n",
       "      <td>168</td>\n",
       "      <td>alfa-romero</td>\n",
       "      <td>gas</td>\n",
       "      <td>std</td>\n",
       "      <td>two</td>\n",
       "      <td>convertible</td>\n",
       "      <td>rwd</td>\n",
       "      <td>front</td>\n",
       "      <td>88.6</td>\n",
       "      <td>...</td>\n",
       "      <td>130</td>\n",
       "      <td>mpfi</td>\n",
       "      <td>3.47</td>\n",
       "      <td>2.68</td>\n",
       "      <td>9.0</td>\n",
       "      <td>111</td>\n",
       "      <td>5000</td>\n",
       "      <td>21</td>\n",
       "      <td>27</td>\n",
       "      <td>13495</td>\n",
       "    </tr>\n",
       "    <tr>\n",
       "      <th>1</th>\n",
       "      <td>3</td>\n",
       "      <td>168</td>\n",
       "      <td>alfa-romero</td>\n",
       "      <td>gas</td>\n",
       "      <td>std</td>\n",
       "      <td>two</td>\n",
       "      <td>convertible</td>\n",
       "      <td>rwd</td>\n",
       "      <td>front</td>\n",
       "      <td>88.6</td>\n",
       "      <td>...</td>\n",
       "      <td>130</td>\n",
       "      <td>mpfi</td>\n",
       "      <td>3.47</td>\n",
       "      <td>2.68</td>\n",
       "      <td>9.0</td>\n",
       "      <td>111</td>\n",
       "      <td>5000</td>\n",
       "      <td>21</td>\n",
       "      <td>27</td>\n",
       "      <td>16500</td>\n",
       "    </tr>\n",
       "    <tr>\n",
       "      <th>2</th>\n",
       "      <td>1</td>\n",
       "      <td>168</td>\n",
       "      <td>alfa-romero</td>\n",
       "      <td>gas</td>\n",
       "      <td>std</td>\n",
       "      <td>two</td>\n",
       "      <td>hatchback</td>\n",
       "      <td>rwd</td>\n",
       "      <td>front</td>\n",
       "      <td>94.5</td>\n",
       "      <td>...</td>\n",
       "      <td>152</td>\n",
       "      <td>mpfi</td>\n",
       "      <td>2.68</td>\n",
       "      <td>3.47</td>\n",
       "      <td>9.0</td>\n",
       "      <td>154</td>\n",
       "      <td>5000</td>\n",
       "      <td>19</td>\n",
       "      <td>26</td>\n",
       "      <td>16500</td>\n",
       "    </tr>\n",
       "    <tr>\n",
       "      <th>3</th>\n",
       "      <td>2</td>\n",
       "      <td>164</td>\n",
       "      <td>audi</td>\n",
       "      <td>gas</td>\n",
       "      <td>std</td>\n",
       "      <td>four</td>\n",
       "      <td>sedan</td>\n",
       "      <td>fwd</td>\n",
       "      <td>front</td>\n",
       "      <td>99.8</td>\n",
       "      <td>...</td>\n",
       "      <td>109</td>\n",
       "      <td>mpfi</td>\n",
       "      <td>3.19</td>\n",
       "      <td>3.40</td>\n",
       "      <td>10.0</td>\n",
       "      <td>102</td>\n",
       "      <td>5500</td>\n",
       "      <td>24</td>\n",
       "      <td>30</td>\n",
       "      <td>13950</td>\n",
       "    </tr>\n",
       "    <tr>\n",
       "      <th>4</th>\n",
       "      <td>2</td>\n",
       "      <td>164</td>\n",
       "      <td>audi</td>\n",
       "      <td>gas</td>\n",
       "      <td>std</td>\n",
       "      <td>four</td>\n",
       "      <td>sedan</td>\n",
       "      <td>4wd</td>\n",
       "      <td>front</td>\n",
       "      <td>99.4</td>\n",
       "      <td>...</td>\n",
       "      <td>136</td>\n",
       "      <td>mpfi</td>\n",
       "      <td>3.19</td>\n",
       "      <td>3.40</td>\n",
       "      <td>8.0</td>\n",
       "      <td>115</td>\n",
       "      <td>5500</td>\n",
       "      <td>18</td>\n",
       "      <td>22</td>\n",
       "      <td>17450</td>\n",
       "    </tr>\n",
       "  </tbody>\n",
       "</table>\n",
       "<p>5 rows × 26 columns</p>\n",
       "</div>"
      ],
      "text/plain": [
       "   symboling  normalized_losses         make fuel_type aspiration  \\\n",
       "0          3                168  alfa-romero       gas        std   \n",
       "1          3                168  alfa-romero       gas        std   \n",
       "2          1                168  alfa-romero       gas        std   \n",
       "3          2                164         audi       gas        std   \n",
       "4          2                164         audi       gas        std   \n",
       "\n",
       "  number_of_doors   body_style drive_wheels engine_location  wheel_base  ...  \\\n",
       "0             two  convertible          rwd           front        88.6  ...   \n",
       "1             two  convertible          rwd           front        88.6  ...   \n",
       "2             two    hatchback          rwd           front        94.5  ...   \n",
       "3            four        sedan          fwd           front        99.8  ...   \n",
       "4            four        sedan          4wd           front        99.4  ...   \n",
       "\n",
       "   engine_size  fuel_system  bore  stroke compression_ratio horsepower  \\\n",
       "0          130         mpfi  3.47    2.68               9.0        111   \n",
       "1          130         mpfi  3.47    2.68               9.0        111   \n",
       "2          152         mpfi  2.68    3.47               9.0        154   \n",
       "3          109         mpfi  3.19    3.40              10.0        102   \n",
       "4          136         mpfi  3.19    3.40               8.0        115   \n",
       "\n",
       "   peak_rpm city_mpg  highway_mpg  price  \n",
       "0      5000       21           27  13495  \n",
       "1      5000       21           27  16500  \n",
       "2      5000       19           26  16500  \n",
       "3      5500       24           30  13950  \n",
       "4      5500       18           22  17450  \n",
       "\n",
       "[5 rows x 26 columns]"
      ]
     },
     "execution_count": 36,
     "metadata": {},
     "output_type": "execute_result"
    }
   ],
   "source": [
    "auto.head()"
   ]
  },
  {
   "cell_type": "code",
   "execution_count": 37,
   "metadata": {
    "colab": {
     "base_uri": "https://localhost:8080/"
    },
    "id": "wVRt3ZKM7416",
    "outputId": "b48da0eb-5a24-45bc-d673-a59a429b0d60"
   },
   "outputs": [
    {
     "name": "stdout",
     "output_type": "stream",
     "text": [
      "(201, 26)\n"
     ]
    }
   ],
   "source": [
    "print(auto.shape)"
   ]
  },
  {
   "cell_type": "markdown",
   "metadata": {
    "id": "ddFGs8707419"
   },
   "source": [
    "**What is the average Price of all cars in the dataset?**"
   ]
  },
  {
   "cell_type": "code",
   "execution_count": 38,
   "metadata": {
    "colab": {
     "base_uri": "https://localhost:8080/"
    },
    "id": "hl4I6xd-7419",
    "outputId": "49ef1721-b305-4029-d5cb-0952c0ff548a"
   },
   "outputs": [
    {
     "name": "stdout",
     "output_type": "stream",
     "text": [
      "13207.129353233831\n"
     ]
    }
   ],
   "source": [
    "avg = auto['price'].dropna().mean()\n",
    "print(avg)"
   ]
  },
  {
   "cell_type": "markdown",
   "metadata": {
    "id": "zdJWY8G2742A"
   },
   "source": [
    "**Which is the cheapest make and costliest make of car in the lot?**"
   ]
  },
  {
   "cell_type": "code",
   "execution_count": 39,
   "metadata": {
    "colab": {
     "base_uri": "https://localhost:8080/"
    },
    "id": "rC_xmcM7742A",
    "outputId": "2cb6c3d9-8ea0-4031-b528-c0dbf77411ef"
   },
   "outputs": [
    {
     "name": "stdout",
     "output_type": "stream",
     "text": [
      "Cheapest Make: subaru with Price: 5118\n",
      "Costliest Make: mercedes-benz with Price: 45400\n"
     ]
    }
   ],
   "source": [
    "auto['price'] = pd.to_numeric(auto['price'], errors='coerce')\n",
    "\n",
    "min_price = auto['price'].min()\n",
    "max_price = auto['price'].max()\n",
    "\n",
    "cheapest_make = auto[auto['price'] == min_price]['make']\n",
    "costliest_make = auto[auto['price'] == max_price]['make']\n",
    "\n",
    "print(f\"Cheapest Make: {cheapest_make.values[0]} with Price: {min_price}\")\n",
    "print(f\"Costliest Make: {costliest_make.values[0]} with Price: {max_price}\")\n"
   ]
  },
  {
   "cell_type": "markdown",
   "metadata": {
    "id": "xMvmHC-N742F"
   },
   "source": [
    "**How many cars have horsepower greater than 100?**"
   ]
  },
  {
   "cell_type": "code",
   "execution_count": 40,
   "metadata": {
    "colab": {
     "base_uri": "https://localhost:8080/"
    },
    "id": "TiVs0ipq742G",
    "outputId": "02f7760f-7464-4def-a586-924e179d811c"
   },
   "outputs": [
    {
     "name": "stdout",
     "output_type": "stream",
     "text": [
      "Number of cars with horsepower greater than 100: 90\n"
     ]
    }
   ],
   "source": [
    "auto['horsepower'] = pd.to_numeric(auto['horsepower'], errors='coerce')\n",
    "\n",
    "cars_with_high_hp = auto[auto['horsepower'] > 100].shape[0]\n",
    "\n",
    "# Display the result\n",
    "print(f\"Number of cars with horsepower greater than 100: {cars_with_high_hp}\")\n"
   ]
  },
  {
   "cell_type": "markdown",
   "metadata": {
    "id": "BxCVZJNC742I"
   },
   "source": [
    "**How many hatchback cars are in the dataset ?**"
   ]
  },
  {
   "cell_type": "code",
   "execution_count": 41,
   "metadata": {
    "colab": {
     "base_uri": "https://localhost:8080/"
    },
    "id": "9LrFtDpF742J",
    "outputId": "df705384-2eb6-4b38-d511-3312cfe8c4e2"
   },
   "outputs": [
    {
     "name": "stdout",
     "output_type": "stream",
     "text": [
      "Number of hatchback cars in the dataset: 68\n"
     ]
    }
   ],
   "source": [
    "hatchback_cars = auto[auto['body_style'] == 'hatchback']\n",
    "\n",
    "num_hatchback_cars = hatchback_cars.shape[0]\n",
    "\n",
    "print(f\"Number of hatchback cars in the dataset: {num_hatchback_cars}\")\n"
   ]
  },
  {
   "cell_type": "markdown",
   "metadata": {
    "id": "BRLWunmC742L"
   },
   "source": [
    "**What are the 3 most commonly found cars in the dataset?**"
   ]
  },
  {
   "cell_type": "code",
   "execution_count": 42,
   "metadata": {
    "colab": {
     "base_uri": "https://localhost:8080/"
    },
    "id": "kS4gRLhB742M",
    "outputId": "0d7bb2f6-0ef5-4793-e309-b6953bd6dd67"
   },
   "outputs": [
    {
     "name": "stdout",
     "output_type": "stream",
     "text": [
      "The 3 most commonly found cars in the dataset:\n",
      "make\n",
      "toyota    32\n",
      "nissan    18\n",
      "mazda     17\n",
      "Name: count, dtype: int64\n"
     ]
    }
   ],
   "source": [
    "most_common_cars = auto['make'].value_counts().head(3)\n",
    "print(\"The 3 most commonly found cars in the dataset:\")\n",
    "print(most_common_cars)\n"
   ]
  },
  {
   "cell_type": "markdown",
   "metadata": {
    "id": "soDyFoWf742O"
   },
   "source": [
    "**Someone purchased a car for 7099, what is the make of the car?**"
   ]
  },
  {
   "cell_type": "code",
   "execution_count": 43,
   "metadata": {
    "colab": {
     "base_uri": "https://localhost:8080/"
    },
    "id": "X6lrqVpq742O",
    "outputId": "64ce0c5c-4232-4bcf-c93d-38d30aff443d"
   },
   "outputs": [
    {
     "name": "stdout",
     "output_type": "stream",
     "text": [
      "The make of the car purchased for 7099 is: nissan\n"
     ]
    }
   ],
   "source": [
    "car_with_price_7099 = auto[auto['price'] == 7099]\n",
    "\n",
    "make_of_car = car_with_price_7099['make'].values\n",
    "\n",
    "if len(make_of_car) > 0:\n",
    "    print(f\"The make of the car purchased for 7099 is: {make_of_car[0]}\")\n",
    "else:\n",
    "    print(\"No car found with the price 7099.\")\n"
   ]
  },
  {
   "cell_type": "markdown",
   "metadata": {
    "id": "Dm97KFVj742T"
   },
   "source": [
    "Which cars are priced greater than 40000?"
   ]
  },
  {
   "cell_type": "code",
   "execution_count": 44,
   "metadata": {
    "colab": {
     "base_uri": "https://localhost:8080/"
    },
    "id": "KDsWpiuy742T",
    "outputId": "0f179fea-9e70-4371-a148-cf420b9d8f2b"
   },
   "outputs": [
    {
     "name": "stdout",
     "output_type": "stream",
     "text": [
      "Cars priced greater than 40000:\n",
      "             make  price\n",
      "15            bmw  41315\n",
      "70  mercedes-benz  40960\n",
      "71  mercedes-benz  45400\n"
     ]
    }
   ],
   "source": [
    "cars_above_40000 = auto[auto['price'] > 40000]\n",
    "\n",
    "if not cars_above_40000.empty:\n",
    "    print(\"Cars priced greater than 40000:\")\n",
    "    print(cars_above_40000[['make', 'price']])\n",
    "else:\n",
    "    print(\"No cars are priced greater than 40000.\")\n"
   ]
  },
  {
   "cell_type": "markdown",
   "metadata": {
    "id": "NNEkkEPY742X"
   },
   "source": [
    "**Which are the cars that are both a sedan and priced less than 7000?**"
   ]
  },
  {
   "cell_type": "code",
   "execution_count": 45,
   "metadata": {
    "colab": {
     "base_uri": "https://localhost:8080/"
    },
    "id": "XQ66ellN742X",
    "outputId": "c2e04298-24cf-40e5-b7ca-e95f9e8b35f3"
   },
   "outputs": [
    {
     "name": "stdout",
     "output_type": "stream",
     "text": [
      "Sedan cars priced less than 7000:\n",
      "           make body_style  price\n",
      "19    chevrolet      sedan   6575\n",
      "24        dodge      sedan   6692\n",
      "42        isuzu      sedan   6785\n",
      "50        mazda      sedan   6695\n",
      "82   mitsubishi      sedan   6989\n",
      "86       nissan      sedan   5499\n",
      "88       nissan      sedan   6649\n",
      "89       nissan      sedan   6849\n",
      "118    plymouth      sedan   6692\n",
      "152      toyota      sedan   6938\n"
     ]
    }
   ],
   "source": [
    "# Filter cars that are sedan and priced less than 7000\n",
    "cheap_sedans = auto[(auto['body_style'] == 'sedan') & (auto['price'] < 7000)]\n",
    "print(\"Sedan cars priced less than 7000:\")\n",
    "print(cheap_sedans[['make', 'body_style', 'price']])\n",
    "\n"
   ]
  },
  {
   "cell_type": "markdown",
   "metadata": {},
   "source": [
    " **Count the number of unique values in the `fuel_type` column.**"
   ]
  },
  {
   "cell_type": "code",
   "execution_count": 46,
   "metadata": {},
   "outputs": [
    {
     "name": "stdout",
     "output_type": "stream",
     "text": [
      "Number of unique fuel types: 2\n"
     ]
    }
   ],
   "source": [
    "unique_fuel_types = auto['fuel_type'].nunique()\n",
    "print(f\"Number of unique fuel types: {unique_fuel_types}\")"
   ]
  },
  {
   "cell_type": "markdown",
   "metadata": {},
   "source": [
    "**List all the cars that have a horsepower between 100 and 200, and display their `make`, `horsepower`, and `price`.**"
   ]
  },
  {
   "cell_type": "code",
   "execution_count": 47,
   "metadata": {},
   "outputs": [
    {
     "name": "stdout",
     "output_type": "stream",
     "text": [
      "            make  horsepower  price\n",
      "0    alfa-romero         111  13495\n",
      "1    alfa-romero         111  16500\n",
      "2    alfa-romero         154  16500\n",
      "3           audi         102  13950\n",
      "4           audi         115  17450\n",
      "..           ...         ...    ...\n",
      "196        volvo         114  16845\n",
      "197        volvo         160  19045\n",
      "198        volvo         134  21485\n",
      "199        volvo         106  22470\n",
      "200        volvo         114  22625\n",
      "\n",
      "[88 rows x 3 columns]\n"
     ]
    }
   ],
   "source": [
    "filtered_cars = auto[(auto['horsepower'] >= 100) & (auto['horsepower'] <= 200)]\n",
    "result = filtered_cars[['make', 'horsepower', 'price']]\n",
    "print(result)\n"
   ]
  },
  {
   "cell_type": "markdown",
   "metadata": {},
   "source": [
    "**Find the average `city_mpg` and `highway_mpg` for each `body_style`.**"
   ]
  },
  {
   "cell_type": "code",
   "execution_count": 48,
   "metadata": {},
   "outputs": [
    {
     "name": "stdout",
     "output_type": "stream",
     "text": [
      "Average city_mpg and highway_mpg for each body_style:\n",
      "              city_mpg  highway_mpg\n",
      "body_style                         \n",
      "convertible  20.500000    26.000000\n",
      "hardtop      21.625000    27.250000\n",
      "hatchback    26.602941    32.382353\n",
      "sedan        25.053191    30.574468\n",
      "wagon        24.040000    28.720000\n"
     ]
    }
   ],
   "source": [
    "avg_mpg = auto.groupby('body_style')[['city_mpg', 'highway_mpg']].mean()\n",
    "print(\"Average city_mpg and highway_mpg for each body_style:\")\n",
    "print(avg_mpg)\n"
   ]
  },
  {
   "cell_type": "markdown",
   "metadata": {},
   "source": [
    "**What is the median `price` for each `make`?**"
   ]
  },
  {
   "cell_type": "code",
   "execution_count": 50,
   "metadata": {},
   "outputs": [
    {
     "data": {
      "text/plain": [
       "make\n",
       "alfa-romero      16500.0\n",
       "audi             17580.0\n",
       "bmw              22835.0\n",
       "chevrolet         6295.0\n",
       "dodge             7609.0\n",
       "honda             7295.0\n",
       "isuzu             8916.5\n",
       "jaguar           35550.0\n",
       "mazda            10595.0\n",
       "mercedes-benz    32892.0\n",
       "mercury          16503.0\n",
       "mitsubishi        8499.0\n",
       "nissan            8124.0\n",
       "peugot           16630.0\n",
       "plymouth          7609.0\n",
       "porsche          33278.0\n",
       "renault           9595.0\n",
       "saab             15275.0\n",
       "subaru            7894.0\n",
       "toyota            9103.0\n",
       "volkswagen        9737.5\n",
       "volvo            18420.0\n",
       "Name: price, dtype: float64"
      ]
     },
     "execution_count": 50,
     "metadata": {},
     "output_type": "execute_result"
    }
   ],
   "source": [
    "median_price = auto.groupby('make')['price'].median()\n",
    "median_price"
   ]
  },
  {
   "cell_type": "markdown",
   "metadata": {},
   "source": [
    "**List all cars that have a `wheel_base` greater than 100 and a `curb_weight` less than 2500.**"
   ]
  },
  {
   "cell_type": "code",
   "execution_count": 57,
   "metadata": {},
   "outputs": [
    {
     "data": {
      "text/html": [
       "<div>\n",
       "<style scoped>\n",
       "    .dataframe tbody tr th:only-of-type {\n",
       "        vertical-align: middle;\n",
       "    }\n",
       "\n",
       "    .dataframe tbody tr th {\n",
       "        vertical-align: top;\n",
       "    }\n",
       "\n",
       "    .dataframe thead th {\n",
       "        text-align: right;\n",
       "    }\n",
       "</style>\n",
       "<table border=\"1\" class=\"dataframe\">\n",
       "  <thead>\n",
       "    <tr style=\"text-align: right;\">\n",
       "      <th></th>\n",
       "      <th>symboling</th>\n",
       "      <th>normalized_losses</th>\n",
       "      <th>make</th>\n",
       "      <th>fuel_type</th>\n",
       "      <th>aspiration</th>\n",
       "      <th>number_of_doors</th>\n",
       "      <th>body_style</th>\n",
       "      <th>drive_wheels</th>\n",
       "      <th>engine_location</th>\n",
       "      <th>wheel_base</th>\n",
       "      <th>...</th>\n",
       "      <th>engine_size</th>\n",
       "      <th>fuel_system</th>\n",
       "      <th>bore</th>\n",
       "      <th>stroke</th>\n",
       "      <th>compression_ratio</th>\n",
       "      <th>horsepower</th>\n",
       "      <th>peak_rpm</th>\n",
       "      <th>city_mpg</th>\n",
       "      <th>highway_mpg</th>\n",
       "      <th>price</th>\n",
       "    </tr>\n",
       "  </thead>\n",
       "  <tbody>\n",
       "    <tr>\n",
       "      <th>9</th>\n",
       "      <td>2</td>\n",
       "      <td>192</td>\n",
       "      <td>bmw</td>\n",
       "      <td>gas</td>\n",
       "      <td>std</td>\n",
       "      <td>two</td>\n",
       "      <td>sedan</td>\n",
       "      <td>rwd</td>\n",
       "      <td>front</td>\n",
       "      <td>101.2</td>\n",
       "      <td>...</td>\n",
       "      <td>108</td>\n",
       "      <td>mpfi</td>\n",
       "      <td>3.50</td>\n",
       "      <td>2.80</td>\n",
       "      <td>8.8</td>\n",
       "      <td>101</td>\n",
       "      <td>5800</td>\n",
       "      <td>23</td>\n",
       "      <td>29</td>\n",
       "      <td>16430</td>\n",
       "    </tr>\n",
       "    <tr>\n",
       "      <th>10</th>\n",
       "      <td>0</td>\n",
       "      <td>192</td>\n",
       "      <td>bmw</td>\n",
       "      <td>gas</td>\n",
       "      <td>std</td>\n",
       "      <td>four</td>\n",
       "      <td>sedan</td>\n",
       "      <td>rwd</td>\n",
       "      <td>front</td>\n",
       "      <td>101.2</td>\n",
       "      <td>...</td>\n",
       "      <td>108</td>\n",
       "      <td>mpfi</td>\n",
       "      <td>3.50</td>\n",
       "      <td>2.80</td>\n",
       "      <td>8.8</td>\n",
       "      <td>101</td>\n",
       "      <td>5800</td>\n",
       "      <td>23</td>\n",
       "      <td>29</td>\n",
       "      <td>16925</td>\n",
       "    </tr>\n",
       "    <tr>\n",
       "      <th>169</th>\n",
       "      <td>-1</td>\n",
       "      <td>65</td>\n",
       "      <td>toyota</td>\n",
       "      <td>gas</td>\n",
       "      <td>std</td>\n",
       "      <td>four</td>\n",
       "      <td>sedan</td>\n",
       "      <td>fwd</td>\n",
       "      <td>front</td>\n",
       "      <td>102.4</td>\n",
       "      <td>...</td>\n",
       "      <td>122</td>\n",
       "      <td>mpfi</td>\n",
       "      <td>3.31</td>\n",
       "      <td>3.54</td>\n",
       "      <td>8.7</td>\n",
       "      <td>92</td>\n",
       "      <td>4200</td>\n",
       "      <td>29</td>\n",
       "      <td>34</td>\n",
       "      <td>8948</td>\n",
       "    </tr>\n",
       "    <tr>\n",
       "      <th>170</th>\n",
       "      <td>-1</td>\n",
       "      <td>65</td>\n",
       "      <td>toyota</td>\n",
       "      <td>diesel</td>\n",
       "      <td>turbo</td>\n",
       "      <td>four</td>\n",
       "      <td>sedan</td>\n",
       "      <td>fwd</td>\n",
       "      <td>front</td>\n",
       "      <td>102.4</td>\n",
       "      <td>...</td>\n",
       "      <td>110</td>\n",
       "      <td>idi</td>\n",
       "      <td>3.27</td>\n",
       "      <td>3.35</td>\n",
       "      <td>22.5</td>\n",
       "      <td>73</td>\n",
       "      <td>4500</td>\n",
       "      <td>30</td>\n",
       "      <td>33</td>\n",
       "      <td>10698</td>\n",
       "    </tr>\n",
       "    <tr>\n",
       "      <th>171</th>\n",
       "      <td>-1</td>\n",
       "      <td>65</td>\n",
       "      <td>toyota</td>\n",
       "      <td>gas</td>\n",
       "      <td>std</td>\n",
       "      <td>four</td>\n",
       "      <td>hatchback</td>\n",
       "      <td>fwd</td>\n",
       "      <td>front</td>\n",
       "      <td>102.4</td>\n",
       "      <td>...</td>\n",
       "      <td>122</td>\n",
       "      <td>mpfi</td>\n",
       "      <td>3.31</td>\n",
       "      <td>3.54</td>\n",
       "      <td>8.7</td>\n",
       "      <td>92</td>\n",
       "      <td>4200</td>\n",
       "      <td>27</td>\n",
       "      <td>32</td>\n",
       "      <td>9988</td>\n",
       "    </tr>\n",
       "    <tr>\n",
       "      <th>172</th>\n",
       "      <td>-1</td>\n",
       "      <td>65</td>\n",
       "      <td>toyota</td>\n",
       "      <td>gas</td>\n",
       "      <td>std</td>\n",
       "      <td>four</td>\n",
       "      <td>sedan</td>\n",
       "      <td>fwd</td>\n",
       "      <td>front</td>\n",
       "      <td>102.4</td>\n",
       "      <td>...</td>\n",
       "      <td>122</td>\n",
       "      <td>mpfi</td>\n",
       "      <td>3.31</td>\n",
       "      <td>3.54</td>\n",
       "      <td>8.7</td>\n",
       "      <td>92</td>\n",
       "      <td>4200</td>\n",
       "      <td>27</td>\n",
       "      <td>32</td>\n",
       "      <td>10898</td>\n",
       "    </tr>\n",
       "    <tr>\n",
       "      <th>173</th>\n",
       "      <td>-1</td>\n",
       "      <td>65</td>\n",
       "      <td>toyota</td>\n",
       "      <td>gas</td>\n",
       "      <td>std</td>\n",
       "      <td>four</td>\n",
       "      <td>hatchback</td>\n",
       "      <td>fwd</td>\n",
       "      <td>front</td>\n",
       "      <td>102.4</td>\n",
       "      <td>...</td>\n",
       "      <td>122</td>\n",
       "      <td>mpfi</td>\n",
       "      <td>3.31</td>\n",
       "      <td>3.54</td>\n",
       "      <td>8.7</td>\n",
       "      <td>92</td>\n",
       "      <td>4200</td>\n",
       "      <td>27</td>\n",
       "      <td>32</td>\n",
       "      <td>11248</td>\n",
       "    </tr>\n",
       "  </tbody>\n",
       "</table>\n",
       "<p>7 rows × 26 columns</p>\n",
       "</div>"
      ],
      "text/plain": [
       "     symboling  normalized_losses    make fuel_type aspiration  \\\n",
       "9            2                192     bmw       gas        std   \n",
       "10           0                192     bmw       gas        std   \n",
       "169         -1                 65  toyota       gas        std   \n",
       "170         -1                 65  toyota    diesel      turbo   \n",
       "171         -1                 65  toyota       gas        std   \n",
       "172         -1                 65  toyota       gas        std   \n",
       "173         -1                 65  toyota       gas        std   \n",
       "\n",
       "    number_of_doors body_style drive_wheels engine_location  wheel_base  ...  \\\n",
       "9               two      sedan          rwd           front       101.2  ...   \n",
       "10             four      sedan          rwd           front       101.2  ...   \n",
       "169            four      sedan          fwd           front       102.4  ...   \n",
       "170            four      sedan          fwd           front       102.4  ...   \n",
       "171            four  hatchback          fwd           front       102.4  ...   \n",
       "172            four      sedan          fwd           front       102.4  ...   \n",
       "173            four  hatchback          fwd           front       102.4  ...   \n",
       "\n",
       "     engine_size  fuel_system  bore  stroke compression_ratio horsepower  \\\n",
       "9            108         mpfi  3.50    2.80               8.8        101   \n",
       "10           108         mpfi  3.50    2.80               8.8        101   \n",
       "169          122         mpfi  3.31    3.54               8.7         92   \n",
       "170          110          idi  3.27    3.35              22.5         73   \n",
       "171          122         mpfi  3.31    3.54               8.7         92   \n",
       "172          122         mpfi  3.31    3.54               8.7         92   \n",
       "173          122         mpfi  3.31    3.54               8.7         92   \n",
       "\n",
       "     peak_rpm city_mpg  highway_mpg  price  \n",
       "9        5800       23           29  16430  \n",
       "10       5800       23           29  16925  \n",
       "169      4200       29           34   8948  \n",
       "170      4500       30           33  10698  \n",
       "171      4200       27           32   9988  \n",
       "172      4200       27           32  10898  \n",
       "173      4200       27           32  11248  \n",
       "\n",
       "[7 rows x 26 columns]"
      ]
     },
     "execution_count": 57,
     "metadata": {},
     "output_type": "execute_result"
    }
   ],
   "source": [
    "filtered_cars = auto[(auto['wheel_base'] > 100) & (df['curb_weight'] < 2500)]\n",
    "filtered_cars"
   ]
  },
  {
   "cell_type": "markdown",
   "metadata": {},
   "source": [
    "**Create a new column `price_per_hp` that calculates the price of the car per horsepower.**"
   ]
  },
  {
   "cell_type": "code",
   "execution_count": 58,
   "metadata": {},
   "outputs": [
    {
     "name": "stdout",
     "output_type": "stream",
     "text": [
      "            make  price  horsepower  price_per_hp\n",
      "0    alfa-romero  13495         111    121.576577\n",
      "1    alfa-romero  16500         111    148.648649\n",
      "2    alfa-romero  16500         154    107.142857\n",
      "3           audi  13950         102    136.764706\n",
      "4           audi  17450         115    151.739130\n",
      "..           ...    ...         ...           ...\n",
      "196        volvo  16845         114    147.763158\n",
      "197        volvo  19045         160    119.031250\n",
      "198        volvo  21485         134    160.335821\n",
      "199        volvo  22470         106    211.981132\n",
      "200        volvo  22625         114    198.464912\n",
      "\n",
      "[201 rows x 4 columns]\n"
     ]
    }
   ],
   "source": [
    "auto['price_per_hp'] = auto['price'] / auto['horsepower']\n",
    "print(auto[['make', 'price', 'horsepower', 'price_per_hp']])\n"
   ]
  },
  {
   "cell_type": "markdown",
   "metadata": {},
   "source": [
    "**Count how many cars have a `number_of_doors` as `four`.**"
   ]
  },
  {
   "cell_type": "code",
   "execution_count": 59,
   "metadata": {},
   "outputs": [
    {
     "name": "stdout",
     "output_type": "stream",
     "text": [
      "Number of cars with four doors: 114\n"
     ]
    }
   ],
   "source": [
    "num_cars_with_four_doors = auto[auto['number_of_doors'] == 'four'].shape[0]\n",
    "print(f\"Number of cars with four doors: {num_cars_with_four_doors}\")\n"
   ]
  },
  {
   "cell_type": "markdown",
   "metadata": {},
   "source": [
    "**Find the top 5 cars based on their `highway_mpg` and `price`.**"
   ]
  },
  {
   "cell_type": "code",
   "execution_count": 60,
   "metadata": {},
   "outputs": [
    {
     "name": "stdout",
     "output_type": "stream",
     "text": [
      "          make  highway_mpg  price\n",
      "29       honda           54   6479\n",
      "17   chevrolet           53   5151\n",
      "87      nissan           50   7099\n",
      "155     toyota           47   7788\n",
      "156     toyota           47   7738\n"
     ]
    }
   ],
   "source": [
    "top_cars = auto.sort_values(by=['highway_mpg', 'price'], ascending=[False, False])\n",
    "top_5_cars = top_cars.head(5)\n",
    "print(top_5_cars[['make', 'highway_mpg', 'price']])\n"
   ]
  },
  {
   "cell_type": "markdown",
   "metadata": {},
   "source": [
    "**How many cars have missing values in the `normalized_losses` column?**"
   ]
  },
  {
   "cell_type": "code",
   "execution_count": 61,
   "metadata": {},
   "outputs": [
    {
     "name": "stdout",
     "output_type": "stream",
     "text": [
      "Number of cars with missing values in the 'normalized_losses' column: 0\n"
     ]
    }
   ],
   "source": [
    "missing_values_count = auto['normalized_losses'].isnull().sum()\n",
    "print(f\"Number of cars with missing values in the 'normalized_losses' column: {missing_values_count}\")\n"
   ]
  },
  {
   "cell_type": "code",
   "execution_count": null,
   "metadata": {},
   "outputs": [],
   "source": []
  },
  {
   "cell_type": "markdown",
   "metadata": {},
   "source": [
    "**Create a new column `car_age` that calculates the age of the car based on the `year_of_manufacture` (assume the current year is 2025).**"
   ]
  },
  {
   "cell_type": "code",
   "execution_count": null,
   "metadata": {},
   "outputs": [],
   "source": [
    "current_year = 2025\n",
    "auto['car_age'] = current_year - auto['year_of_manufacture']\n",
    "print(auto[['make', 'year_of_manufacture', 'car_age']])"
   ]
  },
  {
   "cell_type": "markdown",
   "metadata": {
    "id": "lUpH8N1Y742a"
   },
   "source": [
    "### The END"
   ]
  }
 ],
 "metadata": {
  "colab": {
   "collapsed_sections": [],
   "include_colab_link": true,
   "name": "Pandas Lab Exercise (kaggle automobile dataset).ipynb",
   "provenance": []
  },
  "kernelspec": {
   "display_name": "Python 3 (ipykernel)",
   "language": "python",
   "name": "python3"
  },
  "language_info": {
   "codemirror_mode": {
    "name": "ipython",
    "version": 3
   },
   "file_extension": ".py",
   "mimetype": "text/x-python",
   "name": "python",
   "nbconvert_exporter": "python",
   "pygments_lexer": "ipython3",
   "version": "3.12.6"
  }
 },
 "nbformat": 4,
 "nbformat_minor": 4
}
