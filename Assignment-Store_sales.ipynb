{
 "cells": [
  {
   "cell_type": "markdown",
   "id": "d736cf34-e043-4789-91b0-c19887e0143f",
   "metadata": {},
   "source": [
    "# Assignment on Store_sales dataset\n",
    "\n",
    "**Load the Dataset**"
   ]
  },
  {
   "cell_type": "code",
   "execution_count": 23,
   "id": "fd79e268-0bd3-4844-af8d-0b1e2b7ceea6",
   "metadata": {},
   "outputs": [
    {
     "name": "stdout",
     "output_type": "stream",
     "text": [
      "  store_id        city  Jan  Feb  Mar  Apr  May  Jun  July  Aug  Sep  Oct  \\\n",
      "0      S_1       Texas    8   20   13   21   17   20    24   17   16    9   \n",
      "1      S_2  California   12   19   15   15   11   19     7   15   10   11   \n",
      "2      S_3  California   16   16   14   19   23    6    13   13   15   14   \n",
      "3      S_4       Texas    8   18   13   10   14   14     6    8    8   18   \n",
      "4      S_5       Texas   19    5   24    9    5   24    10    5   24   15   \n",
      "\n",
      "   Nov  Dec  \n",
      "0    7    6  \n",
      "1   21   19  \n",
      "2   24    8  \n",
      "3    7   11  \n",
      "4    6   13  \n"
     ]
    },
    {
     "data": {
      "text/plain": [
       "store_id    object\n",
       "city        object\n",
       "Jan          int64\n",
       "Feb          int64\n",
       "Mar          int64\n",
       "Apr          int64\n",
       "May          int64\n",
       "Jun          int64\n",
       "July         int64\n",
       "Aug          int64\n",
       "Sep          int64\n",
       "Oct          int64\n",
       "Nov          int64\n",
       "Dec          int64\n",
       "dtype: object"
      ]
     },
     "execution_count": 23,
     "metadata": {},
     "output_type": "execute_result"
    }
   ],
   "source": [
    "import pandas as pd\n",
    "store_sale=pd.read_csv('store_sales.csv')\n",
    "print(store_sale.head())\n",
    "store_sale.dtypes"
   ]
  },
  {
   "cell_type": "markdown",
   "id": "13b8009e-28aa-4c56-8804-a6c417182541",
   "metadata": {},
   "source": [
    "**Calculate the total sales for each store across all months.**"
   ]
  },
  {
   "cell_type": "code",
   "execution_count": 50,
   "id": "3f148a00-b0e5-4caf-85d3-3483c4f62697",
   "metadata": {},
   "outputs": [
    {
     "data": {
      "text/html": [
       "<div>\n",
       "<style scoped>\n",
       "    .dataframe tbody tr th:only-of-type {\n",
       "        vertical-align: middle;\n",
       "    }\n",
       "\n",
       "    .dataframe tbody tr th {\n",
       "        vertical-align: top;\n",
       "    }\n",
       "\n",
       "    .dataframe thead th {\n",
       "        text-align: right;\n",
       "    }\n",
       "</style>\n",
       "<table border=\"1\" class=\"dataframe\">\n",
       "  <thead>\n",
       "    <tr style=\"text-align: right;\">\n",
       "      <th></th>\n",
       "      <th>store_id</th>\n",
       "      <th>Total_Sales</th>\n",
       "    </tr>\n",
       "  </thead>\n",
       "  <tbody>\n",
       "    <tr>\n",
       "      <th>0</th>\n",
       "      <td>S_1</td>\n",
       "      <td>178</td>\n",
       "    </tr>\n",
       "    <tr>\n",
       "      <th>1</th>\n",
       "      <td>S_2</td>\n",
       "      <td>174</td>\n",
       "    </tr>\n",
       "    <tr>\n",
       "      <th>2</th>\n",
       "      <td>S_3</td>\n",
       "      <td>181</td>\n",
       "    </tr>\n",
       "    <tr>\n",
       "      <th>3</th>\n",
       "      <td>S_4</td>\n",
       "      <td>135</td>\n",
       "    </tr>\n",
       "    <tr>\n",
       "      <th>4</th>\n",
       "      <td>S_5</td>\n",
       "      <td>159</td>\n",
       "    </tr>\n",
       "    <tr>\n",
       "      <th>...</th>\n",
       "      <td>...</td>\n",
       "      <td>...</td>\n",
       "    </tr>\n",
       "    <tr>\n",
       "      <th>95</th>\n",
       "      <td>S_96</td>\n",
       "      <td>185</td>\n",
       "    </tr>\n",
       "    <tr>\n",
       "      <th>96</th>\n",
       "      <td>S_97</td>\n",
       "      <td>154</td>\n",
       "    </tr>\n",
       "    <tr>\n",
       "      <th>97</th>\n",
       "      <td>S_98</td>\n",
       "      <td>168</td>\n",
       "    </tr>\n",
       "    <tr>\n",
       "      <th>98</th>\n",
       "      <td>S_99</td>\n",
       "      <td>173</td>\n",
       "    </tr>\n",
       "    <tr>\n",
       "      <th>99</th>\n",
       "      <td>S_100</td>\n",
       "      <td>180</td>\n",
       "    </tr>\n",
       "  </tbody>\n",
       "</table>\n",
       "<p>100 rows × 2 columns</p>\n",
       "</div>"
      ],
      "text/plain": [
       "   store_id  Total_Sales\n",
       "0       S_1          178\n",
       "1       S_2          174\n",
       "2       S_3          181\n",
       "3       S_4          135\n",
       "4       S_5          159\n",
       "..      ...          ...\n",
       "95     S_96          185\n",
       "96     S_97          154\n",
       "97     S_98          168\n",
       "98     S_99          173\n",
       "99    S_100          180\n",
       "\n",
       "[100 rows x 2 columns]"
      ]
     },
     "execution_count": 50,
     "metadata": {},
     "output_type": "execute_result"
    }
   ],
   "source": [
    "store_sale['Total_Sales'] = store_sale.iloc[:, 2:14].sum(axis=1)\n",
    "result=store_sale[['store_id', 'Total_Sales']]\n",
    "result"
   ]
  },
  {
   "cell_type": "markdown",
   "id": "47673b50-bfea-4eb6-9e50-918e87c7c1ff",
   "metadata": {},
   "source": [
    "**Find the average sales for each month across all stores**"
   ]
  },
  {
   "cell_type": "code",
   "execution_count": 42,
   "id": "cfea1028-bd85-4552-ab60-936a13c7d84b",
   "metadata": {},
   "outputs": [
    {
     "name": "stdout",
     "output_type": "stream",
     "text": [
      "Average sales for each month across all stores:\n",
      "Jan             14.46\n",
      "Feb             15.09\n",
      "Mar             14.56\n",
      "Apr             14.57\n",
      "May             13.56\n",
      "Jun             13.80\n",
      "July            14.38\n",
      "Aug             15.81\n",
      "Sep             14.91\n",
      "Oct             14.10\n",
      "Nov             15.31\n",
      "Dec             13.57\n",
      "Total_Sales    174.12\n",
      "dtype: float64\n"
     ]
    }
   ],
   "source": [
    "# Calculate the average sales for each month\n",
    "average_monthly_sales = store_sale.iloc[:, 2:].mean(axis=0)\n",
    "\n",
    "print(\"Average sales for each month across all stores:\")\n",
    "print(average_monthly_sales)\n"
   ]
  },
  {
   "cell_type": "markdown",
   "id": "6dd912e0-9984-42b8-9bf0-db10a69a300c",
   "metadata": {},
   "source": [
    "**Identify the store with the highest total sales.**"
   ]
  },
  {
   "cell_type": "code",
   "execution_count": 43,
   "id": "dca54b78-dbe5-4095-8e14-e1a73c34dff6",
   "metadata": {},
   "outputs": [
    {
     "name": "stdout",
     "output_type": "stream",
     "text": [
      "Store with the highest total sales:\n",
      "store_id             S_62\n",
      "city           California\n",
      "Jan                    16\n",
      "Feb                    21\n",
      "Mar                     6\n",
      "Apr                    22\n",
      "May                    22\n",
      "Jun                     9\n",
      "July                   21\n",
      "Aug                    21\n",
      "Sep                    22\n",
      "Oct                    17\n",
      "Nov                    16\n",
      "Dec                    21\n",
      "Total_Sales           214\n",
      "Name: 61, dtype: object\n"
     ]
    }
   ],
   "source": [
    "store_with_max_sales = store_sale.loc[store_sale['Total_Sales'].idxmax()]\n",
    "print(\"Store with the highest total sales:\")\n",
    "print(store_with_max_sales)\n"
   ]
  },
  {
   "cell_type": "markdown",
   "id": "1c6e048a-7dbe-4975-8126-0ff9d46d0b8d",
   "metadata": {},
   "source": [
    "**Calculate the total sales for each city.**"
   ]
  },
  {
   "cell_type": "code",
   "execution_count": 44,
   "id": "98fdf5f3-5721-4353-b34d-713e98c20450",
   "metadata": {},
   "outputs": [
    {
     "name": "stdout",
     "output_type": "stream",
     "text": [
      "Total sales for each city:\n",
      "city\n",
      "Arizona       3951\n",
      "California    7522\n",
      "Texas         5939\n",
      "Name: Total_Sales, dtype: int64\n"
     ]
    }
   ],
   "source": [
    "# Calculate total sales for each city\n",
    "city_total_sales = store_sale.groupby('city')['Total_Sales'].sum()\n",
    "# Display the result\n",
    "print(\"Total sales for each city:\")\n",
    "print(city_total_sales)\n"
   ]
  },
  {
   "cell_type": "markdown",
   "id": "b9cd0e10-c37e-485a-9b6b-e6a67cd19c7d",
   "metadata": {},
   "source": [
    "**List stores with total sales greater than 200**"
   ]
  },
  {
   "cell_type": "code",
   "execution_count": 52,
   "id": "a1134ab7-96fe-416c-8da1-daddad0064e6",
   "metadata": {},
   "outputs": [
    {
     "name": "stdout",
     "output_type": "stream",
     "text": [
      "Stores with total sales greater than 200:\n",
      "   store_id        city  Total_Sales\n",
      "37     S_38  California          207\n",
      "39     S_40       Texas          204\n",
      "50     S_51     Arizona          210\n",
      "61     S_62  California          214\n",
      "69     S_70       Texas          206\n",
      "72     S_73  California          213\n",
      "77     S_78     Arizona          211\n",
      "85     S_86  California          214\n",
      "86     S_87       Texas          203\n",
      "92     S_93  California          204\n"
     ]
    }
   ],
   "source": [
    "high_sales_stores = store_sale[store_sale['Total_Sales'] > 200]\n",
    "print(\"Stores with total sales greater than 200:\")\n",
    "print(high_sales_stores[['store_id', 'city', 'Total_Sales']])\n"
   ]
  },
  {
   "cell_type": "markdown",
   "id": "00a46208-69b2-4577-9f68-c278af43c557",
   "metadata": {},
   "source": [
    "**Which month had the highest average sales across all stores?**\n"
   ]
  },
  {
   "cell_type": "code",
   "execution_count": 39,
   "id": "9b85a613-a4b4-499c-9782-97e585120f52",
   "metadata": {},
   "outputs": [
    {
     "name": "stdout",
     "output_type": "stream",
     "text": [
      "The month with the highest average sales is Aug with an average of 15.81.\n"
     ]
    }
   ],
   "source": [
    "average_monthly_sales = store_sale.iloc[:, 2:-1].mean()\n",
    "\n",
    "# Find the month with the highest average sales\n",
    "highest_avg_sales_month = average_monthly_sales.idxmax()\n",
    "highest_avg_sales_value = average_monthly_sales.max()\n",
    "\n",
    "# Display the result\n",
    "print(f\"The month with the highest average sales is {highest_avg_sales_month} with an average of {highest_avg_sales_value:.2f}.\")\n"
   ]
  },
  {
   "cell_type": "code",
   "execution_count": null,
   "id": "c46bc5fe-5318-45d2-95ca-e7a9eb0c2010",
   "metadata": {},
   "outputs": [],
   "source": []
  },
  {
   "cell_type": "markdown",
   "id": "37455b7e-1c05-45d5-9dd1-454527319264",
   "metadata": {},
   "source": [
    "**Which city generated the most revenue?**"
   ]
  },
  {
   "cell_type": "code",
   "execution_count": 61,
   "id": "0ceea861-e5f6-4a86-86f0-788d68a898a5",
   "metadata": {},
   "outputs": [
    {
     "name": "stdout",
     "output_type": "stream",
     "text": [
      "The city that generated the most revenue is California with a total revenue of 7522.\n"
     ]
    }
   ],
   "source": [
    "city_sales = store_sale.groupby('city')['Total_Sales'].sum()\n",
    "\n",
    "most_revenue_city = city_sales.idxmax()\n",
    "most_revenue_value = city_sales.max()\n",
    "\n",
    "print(f\"The city that generated the most revenue is {most_revenue_city} with a total revenue of {most_revenue_value}.\")\n"
   ]
  },
  {
   "cell_type": "code",
   "execution_count": null,
   "id": "9e568c9e-3b9c-4c3b-a1bc-367703ec575f",
   "metadata": {},
   "outputs": [],
   "source": []
  }
 ],
 "metadata": {
  "kernelspec": {
   "display_name": "Python 3 (ipykernel)",
   "language": "python",
   "name": "python3"
  },
  "language_info": {
   "codemirror_mode": {
    "name": "ipython",
    "version": 3
   },
   "file_extension": ".py",
   "mimetype": "text/x-python",
   "name": "python",
   "nbconvert_exporter": "python",
   "pygments_lexer": "ipython3",
   "version": "3.12.6"
  }
 },
 "nbformat": 4,
 "nbformat_minor": 5
}
