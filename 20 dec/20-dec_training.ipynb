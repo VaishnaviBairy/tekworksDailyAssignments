{
 "cells": [
  {
   "cell_type": "code",
   "execution_count": null,
   "id": "ae74f425",
   "metadata": {},
   "outputs": [],
   "source": [
    "import re\n",
    "def check_password(password):\n",
    "    pattern =r'[^a-zA-Z0-9]'\n",
    "    if len(password)<10 or len(password)>15:\n",
    "        return \"password should be min 10 and max 15 charecters\"\n",
    "    elif not any(char.isupper() for char in password):\n",
    "        return \"atleast one upper case\"\n",
    "    elif not any(char.islower() for char in password):\n",
    "        return \"atleast one lower case\"\n",
    "    elif not any(char.isdigit() for char in password):\n",
    "        return \"atleast one digit case\"\n",
    "    elif not any(re.search(pattern,char) for char in password):\n",
    "    # elif not re.search(r\"[!@#$%^&*]\", password):\n",
    "        return \"At least one special character is required.\"\n",
    "    elif password[-1]==\".\" or password[-1]==\"@\":\n",
    "        return \"should not end with . and @ symbols\"\n",
    "    elif \" \" in password:\n",
    "        return \"no white spaces\"\n",
    "    else:\n",
    "        return \"Your set a strong Password \"\n",
    "password=input(\"Enter the password\")\n",
    "print(check_password(password))"
   ]
  },
  {
   "cell_type": "code",
   "execution_count": null,
   "id": "adcb1ef6",
   "metadata": {},
   "outputs": [],
   "source": [
    "dict1={\n",
    "    \"name\":\"vaish\",\"roll no\":\"c1\"\n",
    "}\n",
    "print(dict1.values())"
   ]
  },
  {
   "cell_type": "code",
   "execution_count": null,
   "id": "025b407f",
   "metadata": {},
   "outputs": [],
   "source": [
    "def calculate_cart(cart):\n",
    "    # total=sum(cart.values())\n",
    "    total=0\n",
    "    for price in cart.values():\n",
    "        if price >= 25000:\n",
    "            total += price\n",
    "    original=total\n",
    "    if total > 20000 and total < 50000:\n",
    "            total*=0.1\n",
    "    else:\n",
    "        total*=0.15\n",
    "    return original,total\n",
    "\n",
    "\n",
    "cart={\n",
    "    'laptop':50000,'headph':2000,'mouse':35000,'keyboard':1500,'monitor':8000}\n",
    "print(f\"cart items:{cart}\")\n",
    "print(f\"original,discount price:{calculate_cart(cart)}\")\n",
    "\n"
   ]
  },
  {
   "cell_type": "code",
   "execution_count": null,
   "id": "aa3dcfcf",
   "metadata": {},
   "outputs": [],
   "source": [
    "def isPalindrome(s):\n",
    "    reverseS=''.join(reversed(s))\n",
    "    print(reverseS)\n",
    "    if s==reverseS:\n",
    "        return \"palindrome\"\n",
    "    else:\n",
    "        return \"not a palindrome\"\n",
    "\n",
    "s=input(\"enter string:\")\n",
    "print(isPalindrome(s))"
   ]
  },
  {
   "cell_type": "code",
   "execution_count": null,
   "id": "e678d2b8",
   "metadata": {},
   "outputs": [],
   "source": [
    "def isPrime(num):\n",
    "    if num<2:\n",
    "        return \"not prime\"\n",
    "    for i in range (2,num):\n",
    "        if num%i==0:\n",
    "            return \"not prime \"\n",
    "    else:\n",
    "        return \"prime\"\n",
    "num=int(input(\"enter the number\"))\n",
    "print(isPrime(num))"
   ]
  },
  {
   "cell_type": "code",
   "execution_count": null,
   "id": "94f7aec9",
   "metadata": {},
   "outputs": [],
   "source": [
    "def fact(n):\n",
    "    result=1\n",
    "    for i in range(1,n+1):\n",
    "        result*=i\n",
    "    return result\n",
    "num=int(input(\"enter number\"))\n",
    "print(fact(num))"
   ]
  }
 ],
 "metadata": {
  "kernelspec": {
   "display_name": "Python 3 (ipykernel)",
   "language": "python",
   "name": "python3"
  },
  "language_info": {
   "codemirror_mode": {
    "name": "ipython",
    "version": 3
   },
   "file_extension": ".py",
   "mimetype": "text/x-python",
   "name": "python",
   "nbconvert_exporter": "python",
   "pygments_lexer": "ipython3",
   "version": "3.11.5"
  }
 },
 "nbformat": 4,
 "nbformat_minor": 5
}
