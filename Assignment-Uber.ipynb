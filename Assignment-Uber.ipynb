{
 "cells": [
  {
   "cell_type": "markdown",
   "id": "941aa511-f9ba-4f8c-85fb-0b776f5b9a03",
   "metadata": {},
   "source": [
    "# **Assignment on Uber dataset**"
   ]
  },
  {
   "cell_type": "markdown",
   "id": "e9ccc14f-4a6d-48b9-9937-b6373ad64145",
   "metadata": {},
   "source": [
    "**Load the dataset**"
   ]
  },
  {
   "cell_type": "code",
   "execution_count": 2,
   "id": "a34ffa5a-50f5-4451-8ed8-e6f44a7419b1",
   "metadata": {},
   "outputs": [
    {
     "data": {
      "text/html": [
       "<div>\n",
       "<style scoped>\n",
       "    .dataframe tbody tr th:only-of-type {\n",
       "        vertical-align: middle;\n",
       "    }\n",
       "\n",
       "    .dataframe tbody tr th {\n",
       "        vertical-align: top;\n",
       "    }\n",
       "\n",
       "    .dataframe thead th {\n",
       "        text-align: right;\n",
       "    }\n",
       "</style>\n",
       "<table border=\"1\" class=\"dataframe\">\n",
       "  <thead>\n",
       "    <tr style=\"text-align: right;\">\n",
       "      <th></th>\n",
       "      <th>START_DATE*</th>\n",
       "      <th>END_DATE*</th>\n",
       "      <th>CATEGORY*</th>\n",
       "      <th>START*</th>\n",
       "      <th>STOP*</th>\n",
       "      <th>MILES*</th>\n",
       "      <th>PURPOSE*</th>\n",
       "    </tr>\n",
       "  </thead>\n",
       "  <tbody>\n",
       "    <tr>\n",
       "      <th>0</th>\n",
       "      <td>1/1/2016 21:11</td>\n",
       "      <td>1/1/2016 21:17</td>\n",
       "      <td>Business</td>\n",
       "      <td>Fort Pierce</td>\n",
       "      <td>Fort Pierce</td>\n",
       "      <td>5.1</td>\n",
       "      <td>Meal/Entertain</td>\n",
       "    </tr>\n",
       "    <tr>\n",
       "      <th>1</th>\n",
       "      <td>1/2/2016 1:25</td>\n",
       "      <td>1/2/2016 1:37</td>\n",
       "      <td>Business</td>\n",
       "      <td>Fort Pierce</td>\n",
       "      <td>Fort Pierce</td>\n",
       "      <td>5.0</td>\n",
       "      <td>NaN</td>\n",
       "    </tr>\n",
       "    <tr>\n",
       "      <th>2</th>\n",
       "      <td>1/2/2016 20:25</td>\n",
       "      <td>1/2/2016 20:38</td>\n",
       "      <td>Business</td>\n",
       "      <td>Fort Pierce</td>\n",
       "      <td>Fort Pierce</td>\n",
       "      <td>4.8</td>\n",
       "      <td>Errand/Supplies</td>\n",
       "    </tr>\n",
       "    <tr>\n",
       "      <th>3</th>\n",
       "      <td>1/5/2016 17:31</td>\n",
       "      <td>1/5/2016 17:45</td>\n",
       "      <td>Business</td>\n",
       "      <td>Fort Pierce</td>\n",
       "      <td>Fort Pierce</td>\n",
       "      <td>4.7</td>\n",
       "      <td>Meeting</td>\n",
       "    </tr>\n",
       "    <tr>\n",
       "      <th>4</th>\n",
       "      <td>1/6/2016 14:42</td>\n",
       "      <td>1/6/2016 15:49</td>\n",
       "      <td>Business</td>\n",
       "      <td>Fort Pierce</td>\n",
       "      <td>West Palm Beach</td>\n",
       "      <td>63.7</td>\n",
       "      <td>Customer Visit</td>\n",
       "    </tr>\n",
       "  </tbody>\n",
       "</table>\n",
       "</div>"
      ],
      "text/plain": [
       "      START_DATE*       END_DATE* CATEGORY*       START*            STOP*  \\\n",
       "0  1/1/2016 21:11  1/1/2016 21:17  Business  Fort Pierce      Fort Pierce   \n",
       "1   1/2/2016 1:25   1/2/2016 1:37  Business  Fort Pierce      Fort Pierce   \n",
       "2  1/2/2016 20:25  1/2/2016 20:38  Business  Fort Pierce      Fort Pierce   \n",
       "3  1/5/2016 17:31  1/5/2016 17:45  Business  Fort Pierce      Fort Pierce   \n",
       "4  1/6/2016 14:42  1/6/2016 15:49  Business  Fort Pierce  West Palm Beach   \n",
       "\n",
       "   MILES*         PURPOSE*  \n",
       "0     5.1   Meal/Entertain  \n",
       "1     5.0              NaN  \n",
       "2     4.8  Errand/Supplies  \n",
       "3     4.7          Meeting  \n",
       "4    63.7   Customer Visit  "
      ]
     },
     "execution_count": 2,
     "metadata": {},
     "output_type": "execute_result"
    }
   ],
   "source": [
    "import pandas as pd\n",
    "\n",
    "#loading csv\n",
    "uber_data=pd.read_csv(\"Uber.csv\")\n",
    "uber_data.head()\n",
    "\n",
    "#loading excel file\n",
    "#uber_data=pd.read_excel(\"Uber.xslx\")\n",
    "#uber_data.head()\n",
    "\n",
    "#loading jsom file\n",
    "#df=pd.read_json('hello.json')\n",
    "#df.head()"
   ]
  },
  {
   "cell_type": "markdown",
   "id": "a589e8f4-ce40-468d-b563-c873eddf171b",
   "metadata": {},
   "source": [
    "**Display basic info about dataset**"
   ]
  },
  {
   "cell_type": "code",
   "execution_count": 3,
   "id": "fe004ecf-d5b4-4f01-817a-56be0681763a",
   "metadata": {},
   "outputs": [
    {
     "name": "stdout",
     "output_type": "stream",
     "text": [
      "(1156, 7)\n",
      "<class 'pandas.core.frame.DataFrame'>\n",
      "RangeIndex: 1156 entries, 0 to 1155\n",
      "Data columns (total 7 columns):\n",
      " #   Column       Non-Null Count  Dtype  \n",
      "---  ------       --------------  -----  \n",
      " 0   START_DATE*  1156 non-null   object \n",
      " 1   END_DATE*    1155 non-null   object \n",
      " 2   CATEGORY*    1155 non-null   object \n",
      " 3   START*       1155 non-null   object \n",
      " 4   STOP*        1155 non-null   object \n",
      " 5   MILES*       1156 non-null   float64\n",
      " 6   PURPOSE*     653 non-null    object \n",
      "dtypes: float64(1), object(6)\n",
      "memory usage: 63.3+ KB\n",
      "None\n",
      "             MILES*\n",
      "count   1156.000000\n",
      "mean      21.115398\n",
      "std      359.299007\n",
      "min        0.500000\n",
      "25%        2.900000\n",
      "50%        6.000000\n",
      "75%       10.400000\n",
      "max    12204.700000\n"
     ]
    }
   ],
   "source": [
    "print(uber_data.shape)\n",
    "print(uber_data.info())\n",
    "print(uber_data.describe())"
   ]
  },
  {
   "cell_type": "markdown",
   "id": "0dba6eff-7805-45fa-8272-76f9b11fbb0b",
   "metadata": {},
   "source": [
    "**Check for missing values**"
   ]
  },
  {
   "cell_type": "code",
   "execution_count": 4,
   "id": "d9565cc7-c276-422a-883f-cd731ceb163a",
   "metadata": {},
   "outputs": [
    {
     "name": "stdout",
     "output_type": "stream",
     "text": [
      "START_DATE*      0\n",
      "END_DATE*        1\n",
      "CATEGORY*        1\n",
      "START*           1\n",
      "STOP*            1\n",
      "MILES*           0\n",
      "PURPOSE*       503\n",
      "dtype: int64\n"
     ]
    }
   ],
   "source": [
    "c=uber_data.isnull().sum()\n",
    "print(c)"
   ]
  },
  {
   "cell_type": "markdown",
   "id": "a58c1ca3-cae2-412a-8bd3-65cac83dcdd2",
   "metadata": {},
   "source": [
    "**Drop rows with missing values**"
   ]
  },
  {
   "cell_type": "code",
   "execution_count": 5,
   "id": "7e610261-c70f-4297-b9be-370881444bc9",
   "metadata": {},
   "outputs": [
    {
     "name": "stdout",
     "output_type": "stream",
     "text": [
      "           START_DATE*         END_DATE* CATEGORY*            START*  \\\n",
      "0       1/1/2016 21:11    1/1/2016 21:17  Business       Fort Pierce   \n",
      "2       1/2/2016 20:25    1/2/2016 20:38  Business       Fort Pierce   \n",
      "3       1/5/2016 17:31    1/5/2016 17:45  Business       Fort Pierce   \n",
      "4       1/6/2016 14:42    1/6/2016 15:49  Business       Fort Pierce   \n",
      "5       1/6/2016 17:15    1/6/2016 17:19  Business   West Palm Beach   \n",
      "...                ...               ...       ...               ...   \n",
      "1150   12/31/2016 1:07   12/31/2016 1:14  Business           Kar?chi   \n",
      "1151  12/31/2016 13:24  12/31/2016 13:42  Business           Kar?chi   \n",
      "1152  12/31/2016 15:03  12/31/2016 15:38  Business  Unknown Location   \n",
      "1153  12/31/2016 21:32  12/31/2016 21:50  Business        Katunayake   \n",
      "1154  12/31/2016 22:08  12/31/2016 23:51  Business           Gampaha   \n",
      "\n",
      "                 STOP*  MILES*         PURPOSE*  \n",
      "0          Fort Pierce     5.1   Meal/Entertain  \n",
      "2          Fort Pierce     4.8  Errand/Supplies  \n",
      "3          Fort Pierce     4.7          Meeting  \n",
      "4      West Palm Beach    63.7   Customer Visit  \n",
      "5      West Palm Beach     4.3   Meal/Entertain  \n",
      "...                ...     ...              ...  \n",
      "1150           Kar?chi     0.7          Meeting  \n",
      "1151  Unknown Location     3.9   Temporary Site  \n",
      "1152  Unknown Location    16.2          Meeting  \n",
      "1153           Gampaha     6.4   Temporary Site  \n",
      "1154         Ilukwatta    48.2   Temporary Site  \n",
      "\n",
      "[653 rows x 7 columns]\n"
     ]
    }
   ],
   "source": [
    "b=uber_data.dropna()\n",
    "print(b)"
   ]
  },
  {
   "cell_type": "markdown",
   "id": "553b0fa2-e237-4f3d-824f-812b15aa79f3",
   "metadata": {},
   "source": [
    "**fill missing values (propose column with unknown value)**"
   ]
  },
  {
   "cell_type": "code",
   "execution_count": 6,
   "id": "1f85afa3-ea43-4ccc-bd45-b7b8e1d7b0b9",
   "metadata": {},
   "outputs": [
    {
     "name": "stdout",
     "output_type": "stream",
     "text": [
      "           START_DATE*         END_DATE* CATEGORY*            START*  \\\n",
      "0       1/1/2016 21:11    1/1/2016 21:17  Business       Fort Pierce   \n",
      "1        1/2/2016 1:25     1/2/2016 1:37  Business       Fort Pierce   \n",
      "2       1/2/2016 20:25    1/2/2016 20:38  Business       Fort Pierce   \n",
      "3       1/5/2016 17:31    1/5/2016 17:45  Business       Fort Pierce   \n",
      "4       1/6/2016 14:42    1/6/2016 15:49  Business       Fort Pierce   \n",
      "...                ...               ...       ...               ...   \n",
      "1151  12/31/2016 13:24  12/31/2016 13:42  Business           Kar?chi   \n",
      "1152  12/31/2016 15:03  12/31/2016 15:38  Business  Unknown Location   \n",
      "1153  12/31/2016 21:32  12/31/2016 21:50  Business        Katunayake   \n",
      "1154  12/31/2016 22:08  12/31/2016 23:51  Business           Gampaha   \n",
      "1155            Totals                 0         0                 0   \n",
      "\n",
      "                 STOP*   MILES*         PURPOSE*  \n",
      "0          Fort Pierce      5.1   Meal/Entertain  \n",
      "1          Fort Pierce      5.0                0  \n",
      "2          Fort Pierce      4.8  Errand/Supplies  \n",
      "3          Fort Pierce      4.7          Meeting  \n",
      "4      West Palm Beach     63.7   Customer Visit  \n",
      "...                ...      ...              ...  \n",
      "1151  Unknown Location      3.9   Temporary Site  \n",
      "1152  Unknown Location     16.2          Meeting  \n",
      "1153           Gampaha      6.4   Temporary Site  \n",
      "1154         Ilukwatta     48.2   Temporary Site  \n",
      "1155                 0  12204.7                0  \n",
      "\n",
      "[1156 rows x 7 columns]\n"
     ]
    }
   ],
   "source": [
    "a=uber_data.fillna(0)\n",
    "print(a)"
   ]
  },
  {
   "cell_type": "markdown",
   "id": "2c3f9b9f-8cc4-46d0-bc19-d0986d7895c4",
   "metadata": {},
   "source": [
    "**Check and remove duplicates**"
   ]
  },
  {
   "cell_type": "code",
   "execution_count": 10,
   "id": "94e58632-b9ce-4be0-8f71-5a81b4dd88cd",
   "metadata": {},
   "outputs": [
    {
     "name": "stdout",
     "output_type": "stream",
     "text": [
      "\n",
      "Number of duplicate rows: 1\n"
     ]
    }
   ],
   "source": [
    "# Check for duplicates\n",
    "duplicates = uber_data.duplicated()\n",
    "print(\"\\nNumber of duplicate rows:\", duplicates.sum())\n",
    "\n",
    "# Remove duplicates\n",
    "uber_data_cleaned = uber_data.drop_duplicates()"
   ]
  },
  {
   "cell_type": "code",
   "execution_count": null,
   "id": "76215668-c702-461b-872e-83ab303880cb",
   "metadata": {},
   "outputs": [],
   "source": []
  },
  {
   "cell_type": "markdown",
   "id": "0a27bdb3-ade2-40b0-b06f-8a02ede5980a",
   "metadata": {},
   "source": [
    "**Convert START_DATE and END_DATE to datetime**"
   ]
  },
  {
   "cell_type": "code",
   "execution_count": 11,
   "id": "effc5d74-284f-470d-9784-8ae321a4a774",
   "metadata": {},
   "outputs": [
    {
     "name": "stdout",
     "output_type": "stream",
     "text": [
      "             START_DATE*           END_DATE* CATEGORY*            START*  \\\n",
      "0    2016-01-01 21:11:00 2016-01-01 21:17:00  Business       Fort Pierce   \n",
      "1    2016-01-02 01:25:00 2016-01-02 01:37:00  Business       Fort Pierce   \n",
      "2    2016-01-02 20:25:00 2016-01-02 20:38:00  Business       Fort Pierce   \n",
      "3    2016-01-05 17:31:00 2016-01-05 17:45:00  Business       Fort Pierce   \n",
      "4    2016-01-06 14:42:00 2016-01-06 15:49:00  Business       Fort Pierce   \n",
      "...                  ...                 ...       ...               ...   \n",
      "1151 2016-12-31 13:24:00 2016-12-31 13:42:00  Business           Kar?chi   \n",
      "1152 2016-12-31 15:03:00 2016-12-31 15:38:00  Business  Unknown Location   \n",
      "1153 2016-12-31 21:32:00 2016-12-31 21:50:00  Business        Katunayake   \n",
      "1154 2016-12-31 22:08:00 2016-12-31 23:51:00  Business           Gampaha   \n",
      "1155                 NaT                 NaT       NaN               NaN   \n",
      "\n",
      "                 STOP*   MILES*         PURPOSE*  \n",
      "0          Fort Pierce      5.1   Meal/Entertain  \n",
      "1          Fort Pierce      5.0              NaN  \n",
      "2          Fort Pierce      4.8  Errand/Supplies  \n",
      "3          Fort Pierce      4.7          Meeting  \n",
      "4      West Palm Beach     63.7   Customer Visit  \n",
      "...                ...      ...              ...  \n",
      "1151  Unknown Location      3.9   Temporary Site  \n",
      "1152  Unknown Location     16.2          Meeting  \n",
      "1153           Gampaha      6.4   Temporary Site  \n",
      "1154         Ilukwatta     48.2   Temporary Site  \n",
      "1155               NaN  12204.7              NaN  \n",
      "\n",
      "[1156 rows x 7 columns]\n",
      "START_DATE*    datetime64[ns]\n",
      "END_DATE*      datetime64[ns]\n",
      "CATEGORY*              object\n",
      "START*                 object\n",
      "STOP*                  object\n",
      "MILES*                float64\n",
      "PURPOSE*               object\n",
      "dtype: object\n"
     ]
    }
   ],
   "source": [
    "import pandas as pd\n",
    "uber_data = pd.read_csv(\"Uber.csv\")\n",
    "temp = pd.DataFrame(uber_data)\n",
    "temp['START_DATE*'] = pd.to_datetime(temp['START_DATE*'], errors='coerce')\n",
    "temp['END_DATE*'] = pd.to_datetime(temp['END_DATE*'], errors='coerce')\n",
    "\n",
    "print(temp)\n",
    "print(temp.dtypes)"
   ]
  },
  {
   "cell_type": "code",
   "execution_count": null,
   "id": "59c684a6-d034-4ac8-b4cf-b86eeef5fc9c",
   "metadata": {},
   "outputs": [],
   "source": []
  },
  {
   "cell_type": "markdown",
   "id": "95dfc783-1db4-4010-a085-23a653ea83d0",
   "metadata": {},
   "source": [
    "**Total number of rides per category:**"
   ]
  },
  {
   "cell_type": "code",
   "execution_count": 12,
   "id": "e5cba9c3-7988-4d66-9306-5b95131dd111",
   "metadata": {},
   "outputs": [
    {
     "name": "stdout",
     "output_type": "stream",
     "text": [
      "Column names in dataset: Index(['START_DATE*', 'END_DATE*', 'CATEGORY*', 'START*', 'STOP*', 'MILES*',\n",
      "       'PURPOSE*'],\n",
      "      dtype='object')\n",
      "\n",
      "Total number of rides per category:\n",
      "CATEGORY*\n",
      "Business    1078\n",
      "Personal      77\n",
      "dtype: int64\n"
     ]
    }
   ],
   "source": [
    "import pandas as pd\n",
    "\n",
    "# Load the dataset\n",
    "uber_data = pd.read_csv(\"Uber.csv\")\n",
    "\n",
    "# Check the column names for the category column\n",
    "print(\"Column names in dataset:\", uber_data.columns)\n",
    "\n",
    "# Calculate the total rides per category\n",
    "rides_per_category = uber_data.groupby(\"CATEGORY*\").size()\n",
    "\n",
    "# Display the results\n",
    "print(\"\\nTotal number of rides per category:\")\n",
    "print(rides_per_category)\n"
   ]
  },
  {
   "cell_type": "markdown",
   "id": "df33aac2-ffb5-4ec5-9498-652a0eb957d9",
   "metadata": {},
   "source": [
    "**Total miles traveled for each purpose:**"
   ]
  },
  {
   "cell_type": "code",
   "execution_count": 13,
   "id": "6cea5c61-d84e-4eaf-8fde-23ec8b1f2a2c",
   "metadata": {},
   "outputs": [
    {
     "name": "stdout",
     "output_type": "stream",
     "text": [
      "\n",
      "Total miles traveled for each purpose:\n",
      "PURPOSE*\n",
      "Airport/Travel       16.5\n",
      "Between Offices     197.0\n",
      "Charity ($)          15.1\n",
      "Commute             180.2\n",
      "Customer Visit     2089.5\n",
      "Errand/Supplies     508.0\n",
      "Meal/Entertain      911.7\n",
      "Meeting            2851.3\n",
      "Moving               18.2\n",
      "Temporary Site      523.7\n",
      "Name: MILES*, dtype: float64\n"
     ]
    }
   ],
   "source": [
    "# Ensure 'MILES*' is numeric\n",
    "uber_data['MILES*'] = pd.to_numeric(uber_data['MILES*'], errors='coerce')\n",
    "\n",
    "# Group by 'PURPOSE*' and calculate the total miles\n",
    "total_miles_per_purpose = uber_data.groupby(\"PURPOSE*\")['MILES*'].sum()\n",
    "\n",
    "# Display the results\n",
    "print(\"\\nTotal miles traveled for each purpose:\")\n",
    "print(total_miles_per_purpose)\n"
   ]
  },
  {
   "cell_type": "markdown",
   "id": "0038c354-db08-44a6-90b4-3c307431960d",
   "metadata": {},
   "source": [
    "**Average distance for business vs. personal rides:**"
   ]
  },
  {
   "cell_type": "code",
   "execution_count": 14,
   "id": "81c4d609-c7fa-44a7-b7f1-29a996a068c8",
   "metadata": {},
   "outputs": [
    {
     "name": "stdout",
     "output_type": "stream",
     "text": [
      "\n",
      "Average distance for Business vs Personal rides:\n",
      "CATEGORY*\n",
      "Business    10.655844\n",
      "Personal     9.320779\n",
      "Name: MILES*, dtype: float64\n"
     ]
    }
   ],
   "source": [
    "# Calculate the average distance for 'Business' vs 'Personal'\n",
    "avg_distance = uber_data.groupby(\"CATEGORY*\")['MILES*'].mean()\n",
    "\n",
    "# Display the result\n",
    "print(\"\\nAverage distance for Business vs Personal rides:\")\n",
    "print(avg_distance)\n"
   ]
  },
  {
   "cell_type": "markdown",
   "id": "b5ce5c6c-b9ba-4c8f-a371-d3d8ff76ce06",
   "metadata": {},
   "source": [
    "**Add a column for cost estimation (assuming $2 per mile):**"
   ]
  },
  {
   "cell_type": "code",
   "execution_count": 15,
   "id": "d727f17e-f0a9-4168-9a4d-bd0c5b118e11",
   "metadata": {},
   "outputs": [
    {
     "name": "stdout",
     "output_type": "stream",
     "text": [
      "      START_DATE*       END_DATE* CATEGORY*       START*            STOP*  \\\n",
      "0  1/1/2016 21:11  1/1/2016 21:17  Business  Fort Pierce      Fort Pierce   \n",
      "1   1/2/2016 1:25   1/2/2016 1:37  Business  Fort Pierce      Fort Pierce   \n",
      "2  1/2/2016 20:25  1/2/2016 20:38  Business  Fort Pierce      Fort Pierce   \n",
      "3  1/5/2016 17:31  1/5/2016 17:45  Business  Fort Pierce      Fort Pierce   \n",
      "4  1/6/2016 14:42  1/6/2016 15:49  Business  Fort Pierce  West Palm Beach   \n",
      "\n",
      "   MILES*         PURPOSE*  COST_ESTIMATION  \n",
      "0     5.1   Meal/Entertain             10.2  \n",
      "1     5.0              NaN             10.0  \n",
      "2     4.8  Errand/Supplies              9.6  \n",
      "3     4.7          Meeting              9.4  \n",
      "4    63.7   Customer Visit            127.4  \n"
     ]
    }
   ],
   "source": [
    "# Assuming the column 'MILES*' contains the distance traveled\n",
    "# Add a new column 'COST_ESTIMATION' by multiplying the miles by $2\n",
    "uber_data['COST_ESTIMATION'] = uber_data['MILES*'] * 2\n",
    "\n",
    "# Display the first few rows to verify the new column\n",
    "print(uber_data.head())"
   ]
  },
  {
   "cell_type": "markdown",
   "id": "8e7c7766-dc43-43bf-bf95-bd52e37b1657",
   "metadata": {},
   "source": [
    "**Filter rides longer than 50 miles:**"
   ]
  },
  {
   "cell_type": "code",
   "execution_count": 16,
   "id": "f1452c30-ba23-4153-b83c-efefa820123d",
   "metadata": {},
   "outputs": [
    {
     "name": "stdout",
     "output_type": "stream",
     "text": [
      "           START_DATE*         END_DATE* CATEGORY*            START*  \\\n",
      "4       1/6/2016 14:42    1/6/2016 15:49  Business       Fort Pierce   \n",
      "232    3/17/2016 12:52   3/17/2016 15:11  Business            Austin   \n",
      "251    3/19/2016 19:33   3/19/2016 20:39  Business         Galveston   \n",
      "268    3/25/2016 13:24   3/25/2016 16:22  Business              Cary   \n",
      "269    3/25/2016 16:52   3/25/2016 22:22  Business             Latta   \n",
      "270    3/25/2016 22:54    3/26/2016 1:39  Business      Jacksonville   \n",
      "295     4/2/2016 12:21    4/2/2016 14:47  Business         Kissimmee   \n",
      "296     4/2/2016 16:57    4/2/2016 18:09  Business     Daytona Beach   \n",
      "297     4/2/2016 19:38    4/2/2016 22:36  Business      Jacksonville   \n",
      "298     4/2/2016 23:11     4/3/2016 1:34  Business         Ridgeland   \n",
      "299      4/3/2016 2:00     4/3/2016 4:16  Business          Florence   \n",
      "546    7/14/2016 16:39   7/14/2016 20:05  Business       Morrisville   \n",
      "559    7/17/2016 12:20   7/17/2016 15:25  Personal             Boone   \n",
      "707    8/24/2016 13:01   8/24/2016 15:25  Business  Unknown Location   \n",
      "710    8/25/2016 17:19   8/25/2016 19:20  Business  Unknown Location   \n",
      "726    8/27/2016 14:01   8/27/2016 15:44  Business            Lahore   \n",
      "727    8/27/2016 16:15   8/27/2016 19:13  Business  Unknown Location   \n",
      "751     9/6/2016 17:49    9/6/2016 17:49  Business  Unknown Location   \n",
      "776    9/27/2016 21:01    9/28/2016 2:37  Business  Unknown Location   \n",
      "788    10/6/2016 17:23   10/6/2016 17:40  Business        R?walpindi   \n",
      "869   10/28/2016 15:53  10/28/2016 17:59  Business              Cary   \n",
      "870   10/28/2016 18:13  10/28/2016 20:07  Business     Winston Salem   \n",
      "871   10/28/2016 20:13  10/28/2016 22:00  Business         Asheville   \n",
      "873   10/29/2016 17:13  10/29/2016 19:19  Business        Hayesville   \n",
      "880   10/30/2016 13:24  10/30/2016 14:37  Business       Bryson City   \n",
      "881   10/30/2016 15:22  10/30/2016 18:23  Business         Asheville   \n",
      "1088  12/21/2016 20:56  12/21/2016 23:42  Business        Rawalpindi   \n",
      "1155            Totals               NaN       NaN               NaN   \n",
      "\n",
      "                 STOP*   MILES*        PURPOSE*  COST_ESTIMATION  \n",
      "4      West Palm Beach     63.7  Customer Visit            127.4  \n",
      "232               Katy    136.0  Customer Visit            272.0  \n",
      "251            Houston     57.0  Customer Visit            114.0  \n",
      "268              Latta    144.0  Customer Visit            288.0  \n",
      "269       Jacksonville    310.3  Customer Visit            620.6  \n",
      "270          Kissimmee    201.0         Meeting            402.0  \n",
      "295      Daytona Beach     77.3  Customer Visit            154.6  \n",
      "296       Jacksonville     80.5  Customer Visit            161.0  \n",
      "297          Ridgeland    174.2  Customer Visit            348.4  \n",
      "298           Florence    144.0         Meeting            288.0  \n",
      "299               Cary    159.3         Meeting            318.6  \n",
      "546         Banner Elk    195.3             NaN            390.6  \n",
      "559               Cary    180.2         Commute            360.4  \n",
      "707   Unknown Location     96.2             NaN            192.4  \n",
      "710   Unknown Location     50.4             NaN            100.8  \n",
      "726   Unknown Location     86.6             NaN            173.2  \n",
      "727   Unknown Location    156.9             NaN            313.8  \n",
      "751   Unknown Location     69.1             NaN            138.2  \n",
      "776   Unknown Location    195.6             NaN            391.2  \n",
      "788   Unknown Location    112.6             NaN            225.2  \n",
      "869      Winston Salem    107.0         Meeting            214.0  \n",
      "870          Asheville    133.6         Meeting            267.2  \n",
      "871             Topton     91.8         Meeting            183.6  \n",
      "873             Topton     75.7             NaN            151.4  \n",
      "880          Asheville     68.4             NaN            136.8  \n",
      "881             Mebane    195.9             NaN            391.8  \n",
      "1088  Unknown Location    103.0         Meeting            206.0  \n",
      "1155               NaN  12204.7             NaN          24409.4  \n"
     ]
    }
   ],
   "source": [
    "# miles are more than 50\n",
    "a=uber_data[uber_data['MILES*']>50]\n",
    "print(a)"
   ]
  },
  {
   "cell_type": "markdown",
   "id": "3fdffe93-a65e-4407-bd5b-daa9d20c6708",
   "metadata": {},
   "source": [
    "**Filter by specific purpose (e.g., meetings):**"
   ]
  },
  {
   "cell_type": "code",
   "execution_count": 17,
   "id": "f9f9ee23-b44d-4a9e-bcf9-f5c34c8a990e",
   "metadata": {},
   "outputs": [
    {
     "name": "stdout",
     "output_type": "stream",
     "text": [
      "           START_DATE*         END_DATE* CATEGORY*            START*  \\\n",
      "3       1/5/2016 17:31    1/5/2016 17:45  Business       Fort Pierce   \n",
      "6       1/6/2016 17:30    1/6/2016 17:35  Business   West Palm Beach   \n",
      "7       1/7/2016 13:27    1/7/2016 13:33  Business              Cary   \n",
      "8       1/10/2016 8:05    1/10/2016 8:25  Business              Cary   \n",
      "10     1/10/2016 15:08   1/10/2016 15:51  Business          New York   \n",
      "...                ...               ...       ...               ...   \n",
      "1142  12/29/2016 20:15  12/29/2016 20:45  Business           Kar?chi   \n",
      "1144  12/29/2016 23:14  12/29/2016 23:47  Business  Unknown Location   \n",
      "1148  12/30/2016 16:45  12/30/2016 17:08  Business           Kar?chi   \n",
      "1150   12/31/2016 1:07   12/31/2016 1:14  Business           Kar?chi   \n",
      "1152  12/31/2016 15:03  12/31/2016 15:38  Business  Unknown Location   \n",
      "\n",
      "                 STOP*  MILES* PURPOSE*  COST_ESTIMATION  \n",
      "3          Fort Pierce     4.7  Meeting              9.4  \n",
      "6           Palm Beach     7.1  Meeting             14.2  \n",
      "7                 Cary     0.8  Meeting              1.6  \n",
      "8          Morrisville     8.3  Meeting             16.6  \n",
      "10              Queens    10.8  Meeting             21.6  \n",
      "...                ...     ...      ...              ...  \n",
      "1142           Kar?chi     7.2  Meeting             14.4  \n",
      "1144           Kar?chi    12.9  Meeting             25.8  \n",
      "1148           Kar?chi     4.6  Meeting              9.2  \n",
      "1150           Kar?chi     0.7  Meeting              1.4  \n",
      "1152  Unknown Location    16.2  Meeting             32.4  \n",
      "\n",
      "[187 rows x 8 columns]\n"
     ]
    }
   ],
   "source": [
    "# Filter the data for rows where the 'PURPOSE*' column is 'Meeting'\n",
    "meetings_data = uber_data[uber_data['PURPOSE*'] == 'Meeting']\n",
    "\n",
    "# Display the filtered data\n",
    "print(meetings_data)\n"
   ]
  },
  {
   "cell_type": "markdown",
   "id": "82ee3d4d-523b-4a28-a9c1-28149eb65a29",
   "metadata": {},
   "source": [
    "**What is the total number of business trips versus personal trips?**"
   ]
  },
  {
   "cell_type": "code",
   "execution_count": 18,
   "id": "9cb8d272-ecb0-4b42-84b8-32577bbf635c",
   "metadata": {},
   "outputs": [
    {
     "name": "stdout",
     "output_type": "stream",
     "text": [
      "Total trips by category:\n",
      "CATEGORY*\n",
      "Business    1078\n",
      "Personal      77\n",
      "Name: count, dtype: int64\n",
      "\n",
      "Total Business Trips: 1078\n",
      "Total Personal Trips: 77\n"
     ]
    }
   ],
   "source": [
    "# Count the number of trips for each category\n",
    "trip_counts = uber_data['CATEGORY*'].value_counts()\n",
    "\n",
    "# Display the counts\n",
    "print(\"Total trips by category:\")\n",
    "print(trip_counts)\n",
    "\n",
    "business_trips = trip_counts.get('Business', 0)  \n",
    "personal_trips = trip_counts.get('Personal', 0) \n",
    "\n",
    "print(f\"\\nTotal Business Trips: {business_trips}\")\n",
    "print(f\"Total Personal Trips: {personal_trips}\")\n"
   ]
  },
  {
   "cell_type": "markdown",
   "id": "4b246fa1-cd11-46f7-bf7d-bd287536cf7c",
   "metadata": {},
   "source": [
    "**What percentage of trips are business versus personal?**"
   ]
  },
  {
   "cell_type": "code",
   "execution_count": null,
   "id": "4a2e19b9-5584-4c45-9d9e-642cf1aefabb",
   "metadata": {},
   "outputs": [],
   "source": [
    "trip_counts = uber_data['CATEGORY*'].value_counts()\n",
    "total_trips = trip_counts.sum()\n",
    "\n",
    "# Calculate percentages\n",
    "business_percentage = (trip_counts.get('Business', 0) / total_trips) * 100\n",
    "personal_percentage = (trip_counts.get('Personal', 0) / total_trips) * 100\n",
    "\n",
    "# Display the results\n",
    "print(f\"Percentage of Business Trips: {business_percentage:.2f}%\")\n",
    "print(f\"Percentage of Personal Trips: {personal_percentage:.2f}%\")\n"
   ]
  },
  {
   "cell_type": "code",
   "execution_count": null,
   "id": "3ba9ff0a-473c-4b84-ae42-fb74b3363d93",
   "metadata": {},
   "outputs": [],
   "source": [
    "\n"
   ]
  },
  {
   "cell_type": "code",
   "execution_count": null,
   "id": "b33a1f52",
   "metadata": {},
   "outputs": [],
   "source": []
  }
 ],
 "metadata": {
  "kernelspec": {
   "display_name": "Python 3 (ipykernel)",
   "language": "python",
   "name": "python3"
  },
  "language_info": {
   "codemirror_mode": {
    "name": "ipython",
    "version": 3
   },
   "file_extension": ".py",
   "mimetype": "text/x-python",
   "name": "python",
   "nbconvert_exporter": "python",
   "pygments_lexer": "ipython3",
   "version": "3.11.5"
  }
 },
 "nbformat": 4,
 "nbformat_minor": 5
}
